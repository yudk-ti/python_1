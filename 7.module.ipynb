{
 "cells": [
  {
   "cell_type": "markdown",
   "id": "950bdd9f",
   "metadata": {},
   "source": [
    "## datetime"
   ]
  },
  {
   "cell_type": "code",
   "execution_count": 9,
   "id": "68c86899",
   "metadata": {},
   "outputs": [
    {
     "name": "stdout",
     "output_type": "stream",
     "text": [
      "2023-10-01\n",
      "2025-08-06\n",
      "2025-08-06 10:48:52.116543\n",
      "675 days, 0:00:00\n"
     ]
    }
   ],
   "source": [
    "from datetime import *\n",
    "\n",
    "dir(time)\n",
    "d1 = date(2023, 10, 1)\n",
    "print(d1)\n",
    "\n",
    "\n",
    "# d2 = date(today.year, today.month, today.day)\n",
    "# print(d2)\n",
    "\n",
    "d3 = date.today()\n",
    "\n",
    "print(d3)\n",
    "\n",
    "d4 = datetime.now()\n",
    "print(d4)   \n",
    "\n",
    "print(d3 - d1)"
   ]
  },
  {
   "cell_type": "markdown",
   "id": "0167e539",
   "metadata": {},
   "source": [
    "### random"
   ]
  },
  {
   "cell_type": "code",
   "execution_count": 13,
   "id": "b1b81fcb",
   "metadata": {},
   "outputs": [
    {
     "name": "stdout",
     "output_type": "stream",
     "text": [
      "0.9590513654368658\n"
     ]
    },
    {
     "data": {
      "text/plain": [
       "2.333878471439893"
      ]
     },
     "execution_count": 13,
     "metadata": {},
     "output_type": "execute_result"
    }
   ],
   "source": [
    "import random\n",
    "dir(random)\n",
    "print(random.random())\n",
    "\n",
    "\n",
    "random.randint(1, 10)\n",
    "random.uniform(1.5, 10.5)"
   ]
  },
  {
   "cell_type": "code",
   "execution_count": 18,
   "id": "b71292c3",
   "metadata": {},
   "outputs": [
    {
     "name": "stdout",
     "output_type": "stream",
     "text": [
      "c:\\wd\\sample.txt\n",
      "text.txt\n",
      "101760\n"
     ]
    }
   ],
   "source": [
    "## shutil\n",
    "## 기존 파일들을 검색해서 다른 폴더로 이동.\n",
    "from glob import *\n",
    "from os import *\n",
    "from os.path import *\n",
    "from shutil import *\n",
    "\n",
    "fName = 'sample.txt'\n",
    "print(abspath(fName))   \n",
    "print(basename(r\"C:\\work\\text.txt\"))\n",
    "\n",
    "if (exists(r\"C:\\python310\\python.exe\")):\n",
    "    print(getsize(r\"c:\\python310\\python.exe\"))\n",
    "else:\n",
    "    print(\"파일이 존재하지 않습니다.\")      \n",
    "\n",
    "    "
   ]
  },
  {
   "cell_type": "code",
   "execution_count": null,
   "id": "95808364",
   "metadata": {},
   "outputs": [],
   "source": []
  },
  {
   "cell_type": "code",
   "execution_count": null,
   "id": "62b54040",
   "metadata": {},
   "outputs": [],
   "source": []
  },
  {
   "cell_type": "code",
   "execution_count": 20,
   "id": "682b078a",
   "metadata": {},
   "outputs": [
    {
     "name": "stdout",
     "output_type": "stream",
     "text": [
      "demo.csv -> data 폴더로 이동 완료\n",
      "demo.xlsx -> data 폴더로 이동 완료\n",
      "demo.pdf -> docs 폴더로 이동 완료\n"
     ]
    }
   ],
   "source": [
    "import os\n",
    "import shutil\n",
    "from glob import glob\n",
    "\n",
    "# 다운로드 폴더 경로\n",
    "DOWNLOADS = r\"C:\\Users\\student\\Downloads\"\n",
    "\n",
    "# 이동할 폴더 경로 (현재 작업폴더 기준)\n",
    "TARGETS = {\n",
    "    'images': ['*.jpg', '*.jpeg'],\n",
    "    'data': ['*.csv', '*.xlsx'],\n",
    "    'docs': ['*.txt', '*.doc', '*.pdf'],\n",
    "    'archive': ['*.zip']\n",
    "}\n",
    "\n",
    "# 폴더가 없으면 생성\n",
    "for folder in TARGETS.keys():\n",
    "    if not os.path.exists(folder):\n",
    "        os.makedirs(folder)\n",
    "\n",
    "# 파일 이동 함수\n",
    "for folder, patterns in TARGETS.items():\n",
    "    for pattern in patterns:\n",
    "        # 다운로드 폴더에서 패턴에 맞는 파일 찾기\n",
    "        files = glob(os.path.join(DOWNLOADS, pattern))\n",
    "        for file in files:\n",
    "            # 파일명만 추출\n",
    "            base = os.path.basename(file)\n",
    "            # 타겟 폴더로 이동\n",
    "            shutil.move(file, os.path.join(folder, base))\n",
    "            print(f\"{base} -> {folder} 폴더로 이동 완료\")"
   ]
  },
  {
   "cell_type": "code",
   "execution_count": null,
   "id": "d531534e",
   "metadata": {},
   "outputs": [],
   "source": []
  },
  {
   "cell_type": "code",
   "execution_count": null,
   "id": "fe5a755b",
   "metadata": {},
   "outputs": [],
   "source": [
    "import os\n",
    "import shutil\n",
    "from glob import glob\n",
    "\n",
    "# 다운로드 폴더 경로\n",
    "DOWNLOADS = r\"C:\\Users\\student\\Downloads\"\n",
    "\n",
    "# 이동할 폴더 경로 (다운로드 폴더 하단)\n",
    "TARGETS = {\n",
    "    'images': ['*.jpg', '*.jpeg'],\n",
    "    'data': ['*.csv', '*.xlsx'],\n",
    "    'docs': ['*.txt', '*.doc', '*.pdf'],\n",
    "    'archive': ['*.zip']\n",
    "}\n",
    "\n",
    "# 분류 폴더 경로 생성\n",
    "for folder in TARGETS.keys():\n",
    "    target_path = os.path.join(DOWNLOADS, folder)\n",
    "    if not os.path.exists(target_path):\n",
    "        os.makedirs(target_path)\n",
    "\n",
    "# 파일 이동 함수\n",
    "for folder, patterns in TARGETS.items():\n",
    "    target_path = os.path.join(DOWNLOADS, folder)\n",
    "    for pattern in patterns:\n",
    "        # 다운로드 폴더에서 패턴에 맞는 파일 찾기\n",
    "        files = glob(os.path.join(DOWNLOADS, pattern))\n",
    "        for file in files:\n",
    "            # 파일명만 추출\n",
    "            base = os.path.basename(file)\n",
    "            # 타겟 폴더로 이동\n",
    "            shutil.move(file, os.path.join(target_path, base))\n",
    "            print(f\"{base} -> {target_path}로 이동 완료\")"
   ]
  },
  {
   "cell_type": "markdown",
   "id": "ce76ae2e",
   "metadata": {},
   "source": [
    "Module Overview.\n"
   ]
  }
 ],
 "metadata": {
  "kernelspec": {
   "display_name": "Python 3",
   "language": "python",
   "name": "python3"
  },
  "language_info": {
   "codemirror_mode": {
    "name": "ipython",
    "version": 3
   },
   "file_extension": ".py",
   "mimetype": "text/x-python",
   "name": "python",
   "nbconvert_exporter": "python",
   "pygments_lexer": "ipython3",
   "version": "3.10.9"
  }
 },
 "nbformat": 4,
 "nbformat_minor": 5
}
