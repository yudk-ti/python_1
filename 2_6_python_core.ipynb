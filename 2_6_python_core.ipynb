{
 "cells": [
  {
   "cell_type": "code",
   "execution_count": 7,
   "id": "2f16e863",
   "metadata": {},
   "outputs": [
    {
     "name": "stdout",
     "output_type": "stream",
     "text": [
      "9\n",
      "24\n",
      " 파\n",
      "력해\n",
      " pytho\n",
      "erful\n",
      "이번에는\n",
      "다중의 라인을\n",
      "저장합니다.\n"
     ]
    }
   ],
   "source": [
    "strA = \" 파이썬은 강력해\"\n",
    "strB = \" python is very powerful\"\n",
    "\n",
    "print(len(strA))\n",
    "print(len(strB))\n",
    "print(strA[:2])\n",
    "print(strA[-2:])\n",
    "print(strB[:6])\n",
    "print(strB[-5:])\n",
    "\n",
    "strC = \"\"\"이번에는\n",
    "다중의 라인을\n",
    "저장합니다.\"\"\"\n",
    "\n",
    "\n",
    "print(strC)"
   ]
  },
  {
   "cell_type": "code",
   "execution_count": 8,
   "id": "0d576aa1",
   "metadata": {},
   "outputs": [
    {
     "name": "stdout",
     "output_type": "stream",
     "text": [
      "---list format---\n",
      "3\n",
      "[10, 20, 30, 40]\n",
      "[10, 30, 40]\n",
      "[10, 30, 40, 'white']\n",
      "---Tuple---\n",
      "3\n",
      "200\n",
      "2\n"
     ]
    }
   ],
   "source": [
    "print(\"---list format---\")\n",
    "lst = [10,20,30]\n",
    "print(len(lst))\n",
    "lst.append(40)\n",
    "print(lst)\n",
    "lst.remove(20)\n",
    "print(lst)\n",
    "lst.insert(4, \"white\")\n",
    "print(lst)\n",
    "\n",
    "print(\"---Tuple---\")\n",
    "\n",
    "tp = ( 100, 200, 300)\n",
    "print(len(tp))\n",
    "print(tp[1])\n",
    "print(tp.index(300))"
   ]
  },
  {
   "cell_type": "code",
   "execution_count": 10,
   "id": "d9c5527b",
   "metadata": {},
   "outputs": [
    {
     "name": "stdout",
     "output_type": "stream",
     "text": [
      "---형식변환---\n",
      "{1, 2, 3}\n",
      "[1, 2, 3, 10]\n",
      "(1, 2, 3, 10)\n"
     ]
    }
   ],
   "source": [
    "print(\"---형식변환---\")\n",
    "\n",
    "\n",
    "c = set ((1,2,3))\n",
    "print(c)\n",
    "d = list(c)\n",
    "d.append(10)\n",
    "print(d)\n",
    "e = tuple(d)\n",
    "print(e)\n",
    "\n"
   ]
  },
  {
   "cell_type": "markdown",
   "id": "49aeda12",
   "metadata": {},
   "source": [
    "Dictionary (1)"
   ]
  },
  {
   "cell_type": "code",
   "execution_count": 11,
   "id": "5bc66138",
   "metadata": {},
   "outputs": [
    {
     "name": "stdout",
     "output_type": "stream",
     "text": [
      "---dic---\n",
      "{'apple': 'red', 'banana': 'yellow', 'cherry': 'red'}\n",
      "red\n",
      "{'banana': 'yellow', 'cherry': 'red'}\n"
     ]
    }
   ],
   "source": [
    "print(\"---dic---\")\n",
    "colors = {\"apple\":\"red\", \"banana\":\"yellow\"}\n",
    "\n",
    "colors[\"cherry\"] = \"red\"\n",
    "print(colors)\n",
    "\n",
    "print(colors[\"apple\"])\n",
    "del colors[\"apple\"]\n",
    "print(colors) \n"
   ]
  },
  {
   "cell_type": "markdown",
   "id": "4685a2a2",
   "metadata": {},
   "source": [
    "Dictionary (2)"
   ]
  },
  {
   "cell_type": "code",
   "execution_count": 12,
   "id": "2accdd03",
   "metadata": {},
   "outputs": [
    {
     "name": "stdout",
     "output_type": "stream",
     "text": [
      "{'iphone': 5, 'ipad': 10, 'mac': 7, 'dell': 20}\n",
      "{'iphone': 9, 'ipad': 10, 'mac': 7, 'dell': 20}\n",
      "{'iphone': 9, 'mac': 7, 'dell': 20}\n",
      "('iphone', 9)\n",
      "('mac', 7)\n",
      "('dell', 20)\n",
      "iphone 9\n",
      "mac 7\n",
      "dell 20\n"
     ]
    }
   ],
   "source": [
    "device = { \"iphone\":5, \"ipad\":10, \"mac\":7 }\n",
    "device[\"dell\"] = 20\n",
    "print(device)\n",
    "device[\"iphone\"] = 9\n",
    "print(device)\n",
    "del device[\"ipad\"]\n",
    "print(device)\n",
    "\n",
    "for item in device.items():\n",
    "    print(item)\n",
    "\n",
    "for k,v in device.items():\n",
    "    print(k,v)\n"
   ]
  },
  {
   "cell_type": "markdown",
   "id": "8c0a7061",
   "metadata": {},
   "source": [
    "파이썬의 자료 형식과 연산자 사용하기. bool , 연산자(산술,관계,논리,비트)"
   ]
  },
  {
   "cell_type": "code",
   "execution_count": 27,
   "id": "ae705479",
   "metadata": {},
   "outputs": [
    {
     "name": "stdout",
     "output_type": "stream",
     "text": [
      "---ture and false---\n",
      "False\n",
      "True\n",
      "True\n",
      "True\n",
      "False\n",
      "True\n",
      "True\n",
      "True\n",
      "2.5\n",
      "2\n",
      "1\n",
      "0\n"
     ]
    }
   ],
   "source": [
    "print(\"---ture and false---\")\n",
    "print(bool(0))\n",
    "print(bool(1))\n",
    "print(bool(\"demo\"))\n",
    "print(bool([1,2,3]))\n",
    "print(bool(None))\n",
    "print(bool(\"none\"))\n",
    "print(True and True and True)\n",
    "print(bool([0,1,2]))\n",
    "print(5/2)\n",
    "print(5//2)\n",
    "print(5%2) # 홀 짝, 홀 : 1\n",
    "print(4%2) # 홀 짝, 짝 : 0"
   ]
  },
  {
   "cell_type": "markdown",
   "id": "355ac60c",
   "metadata": {},
   "source": [
    "파이썬의 함수사용과 분기반복문"
   ]
  },
  {
   "cell_type": "code",
   "execution_count": null,
   "id": "e17179d6",
   "metadata": {},
   "outputs": [
    {
     "name": "stdout",
     "output_type": "stream",
     "text": [
      "<function times at 0x000002C45F7E3E20>\n",
      "30\n",
      "<function times at 0x000002C45F7E3E20>\n"
     ]
    }
   ],
   "source": [
    "#def <함수명>(인자1, 인자2, ... 인자N):\n",
    "#   <구문>\n",
    "#   return <반환값>\n",
    "\n",
    "def times(a,b):\n",
    "    return a*b\n",
    "\n",
    "print(times)\n",
    "print(times(5,6))\n",
    "myTimes = times\n",
    "print(myTimes)\n",
    "\n",
    "#return"
   ]
  },
  {
   "cell_type": "markdown",
   "id": "1fdf27d3",
   "metadata": {},
   "source": [
    "## 0805_3장.파이썬의함수사용과분기반복문"
   ]
  },
  {
   "cell_type": "markdown",
   "id": "b2fadcbd",
   "metadata": {},
   "source": [
    "가변 인자 * 를 함수 인자 앞에 붙이면 정해지지 않은 수의 인자를 받음. (* tuple 형식. )"
   ]
  },
  {
   "cell_type": "code",
   "execution_count": null,
   "id": "461130b8",
   "metadata": {},
   "outputs": [
    {
     "name": "stdout",
     "output_type": "stream",
     "text": [
      "--함수 이름 해석--\n",
      "6\n",
      "11\n"
     ]
    }
   ],
   "source": [
    "print(\"--함수 이름 해석--\")\n",
    "\n",
    "x = 5\n",
    "def func(a) :\n",
    "    return a + x\n",
    "\n",
    "\n",
    "print(func(1))\n",
    "\n",
    "\n",
    "def func2(a):\n",
    "    x = 10\n",
    "    return a + x\n",
    "\n",
    "print(func2(1))\n",
    "\n",
    "\n"
   ]
  },
  {
   "cell_type": "code",
   "execution_count": 5,
   "id": "3d873145",
   "metadata": {},
   "outputs": [
    {
     "name": "stdout",
     "output_type": "stream",
     "text": [
      "기본값\n",
      "200\n",
      "100\n",
      "30\n",
      "http://multi.com:80\n",
      "http://test.com:80\n"
     ]
    }
   ],
   "source": [
    "print(\"기본값\")\n",
    "\n",
    "def times (a=10,b=20):\n",
    "    return a*b\n",
    "\n",
    "print(times())\n",
    "print(times(5))\n",
    "print(times(5,6))\n",
    "\n",
    "def connectURI(server, port): \n",
    "    strURL = \"http://\" + server + \":\" + port\n",
    "    return strURL\n",
    "\n",
    "print(connectURI(\"multi.com\", \"80\"))\n",
    "print(connectURI(port=\"80\", server=\"test.com\"))"
   ]
  },
  {
   "cell_type": "markdown",
   "id": "1f1ecbe7",
   "metadata": {},
   "source": [
    "## function2"
   ]
  },
  {
   "cell_type": "code",
   "execution_count": 10,
   "id": "ee35b881",
   "metadata": {},
   "outputs": [
    {
     "name": "stdout",
     "output_type": "stream",
     "text": [
      "['H', 'A', 'M', 'S', 'P']\n",
      "['H', 'A', 'M', 'S', 'P', 'E', 'G']\n",
      "6\n",
      "15\n",
      "9\n",
      "{'__name__': '__main__', '__doc__': 'Automatically created module for IPython interactive environment', '__package__': None, '__loader__': None, '__spec__': None, '__builtin__': <module 'builtins' (built-in)>, '__builtins__': <module 'builtins' (built-in)>, '_ih': ['', 'print(\"--함수 이름 해석--\")\\n\\nx = 5\\ndef func(a) :\\n    return a + x\\n\\n\\nprint(func(1))\\ndef func2(a):\\n    x = 10\\n    return a + x\\n\\nprint(func2(1))', 'print(\"기본값\")\\n\\ndef times (a=10,b=20):\\n    return a*b\\n\\nprint(times())\\nprint(times(5))\\nprint(times(5,6))\\n\\ndef connectURI(server, port): \\n    strURL = \"http://\" + server + \":\" + port\\n    retrun strURL\\n\\nprint(connectURI(\"multi.com\", \"80\"))\\nprint(connectURI(prot=\"80\", server\"test.com\"))', 'print(\"기본값\")\\n\\ndef times (a=10,b=20):\\n    return a*b\\n\\nprint(times())\\nprint(times(5))\\nprint(times(5,6))\\n\\ndef connectURI(server, port): \\n    strURL = \"http://\" + server + \":\" + port\\n    return strURL\\n\\nprint(connectURI(\"multi.com\", \"80\"))\\nprint(connectURI(prot=\"80\", server\"test.com\"))', 'print(\"기본값\")\\n\\ndef times (a=10,b=20):\\n    return a*b\\n\\nprint(times())\\nprint(times(5))\\nprint(times(5,6))\\n\\ndef connectURI(server, port): \\n    strURL = \"http://\" + server + \":\" + port\\n    return strURL\\n\\nprint(connectURI(\"multi.com\", \"80\"))\\nprint(connectURI(prot=\"80\", server=\"test.com\"))', 'print(\"기본값\")\\n\\ndef times (a=10,b=20):\\n    return a*b\\n\\nprint(times())\\nprint(times(5))\\nprint(times(5,6))\\n\\ndef connectURI(server, port): \\n    strURL = \"http://\" + server + \":\" + port\\n    return strURL\\n\\nprint(connectURI(\"multi.com\", \"80\"))\\nprint(connectURI(port=\"80\", server=\"test.com\"))', '# function2.py \\n#기본 값이 있는 경우\\ndef times(a=10, b=20):\\n    return a*b \\n\\n#호출\\nprint( times() )\\nprint( times(5) )\\nprint( times(5,6) )\\n\\n#키워드 인자 방식 전달\\ndef connectURI(server, port):\\n    str = \"http://\" + server + \":\" + port \\n    return str \\n\\nprint(connectURI(\"credu.com\", \"80\"))\\nprint(connectURI(port=\"80\",server=\"test.com\"))\\n\\n#가변인자(갯수가 정해져 있지 않은경우)\\n# * Tuple 이라는 힌트\\ndef union(*ar):\\n    #지역변수\\n    res = []\\n    for item in ar:\\n        for x in item:\\n            if x not in res:\\n                res.append(x)\\n    return res \\n\\nprint( union(\"HAM\",\"SPAM\") )\\nprint( union(\"HAM\",\"SPAM\",\"EGG\") )\\n\\n\\n#람다 함수 정의\\ng = lambda x,y:x*y\\nprint( g(2,3) )\\nprint( g(3,5) )\\nprint( (lambda  x:x*x)(3) )\\nprint( globals() )', '#가변인자(갯수가 정해져 있지 않은경우)\\n# * Tuple 이라는 힌트\\ndef union(*ar):\\n    #지역변수\\n    res = []\\n    for item in ar:\\n        for x in item:\\n            if x not in res:\\n                res.append(x)\\n    return res \\n\\nprint( union(\"HAM\",\"SPAM\") )\\nprint( union(\"HAM\",\"SPAM\",\"EGG\") )\\n\\n\\n#람다 함수 정의\\ng = lambda x,y:x*y\\nprint( g(2,3) )\\nprint( g(3,5) )\\nprint( (lambda  x:x*x)(3) )\\nprint( globals() )', '#가변인자(갯수가 정해져 있지 않은경우)\\n# * Tuple 이라는 힌트\\ndef union(*ar):\\n    #지역변수\\n    res = []\\n    for item in ar:\\n        for x in item:\\n            if x not in res:\\n                res.append(x)\\n    return res \\n\\nprint( union(\"HAM\",\"SPAM\") )\\nprint( union(\"HAM\",\"SPAM\",\"EGG\") )\\n\\n\\n#람다 함수 정의\\ng = lambda x,y:x*y\\nprint( g(2,3) )\\nprint( g(3,5) )\\nprint( (lambda  x:x*x)(3) )\\nprint( globals() )', '#가변인자(갯수가 정해져 있지 않은경우)\\n# * Tuple 이라는 힌트\\ndef union(*ar):\\n    #지역변수\\n    res = []\\n    for item in ar:\\n        for x in item:\\n            if x not in res:\\n                res.append(x)\\n    return res \\n\\nprint( union(\"HAM\",\"SPAM\") )\\nprint( union(\"HAM\",\"SPAM\",\"EGG\") )\\n\\n\\n#람다 함수 정의\\ng = lambda x,y:x*y\\nprint( g(2,3) )\\nprint( g(3,5) )\\nprint( (lambda  x:x*x)(3) )\\nprint( globals() )\\n\\nprint( globals())\\nprint ( dirc())', '#가변인자(갯수가 정해져 있지 않은경우)\\n# * Tuple 이라는 힌트\\ndef union(*ar):\\n    #지역변수\\n    res = []\\n    for item in ar:\\n        for x in item:\\n            if x not in res:\\n                res.append(x)\\n    return res \\n\\nprint( union(\"HAM\",\"SPAM\") )\\nprint( union(\"HAM\",\"SPAM\",\"EGG\") )\\n\\n\\n#람다 함수 정의\\ng = lambda x,y:x*y\\nprint( g(2,3) )\\nprint( g(3,5) )\\nprint( (lambda  x:x*x)(3) )\\nprint( globals() )\\n\\nprint( globals())\\nprint ( dir())'], '_oh': {}, '_dh': [WindowsPath('c:/wd')], 'In': ['', 'print(\"--함수 이름 해석--\")\\n\\nx = 5\\ndef func(a) :\\n    return a + x\\n\\n\\nprint(func(1))\\ndef func2(a):\\n    x = 10\\n    return a + x\\n\\nprint(func2(1))', 'print(\"기본값\")\\n\\ndef times (a=10,b=20):\\n    return a*b\\n\\nprint(times())\\nprint(times(5))\\nprint(times(5,6))\\n\\ndef connectURI(server, port): \\n    strURL = \"http://\" + server + \":\" + port\\n    retrun strURL\\n\\nprint(connectURI(\"multi.com\", \"80\"))\\nprint(connectURI(prot=\"80\", server\"test.com\"))', 'print(\"기본값\")\\n\\ndef times (a=10,b=20):\\n    return a*b\\n\\nprint(times())\\nprint(times(5))\\nprint(times(5,6))\\n\\ndef connectURI(server, port): \\n    strURL = \"http://\" + server + \":\" + port\\n    return strURL\\n\\nprint(connectURI(\"multi.com\", \"80\"))\\nprint(connectURI(prot=\"80\", server\"test.com\"))', 'print(\"기본값\")\\n\\ndef times (a=10,b=20):\\n    return a*b\\n\\nprint(times())\\nprint(times(5))\\nprint(times(5,6))\\n\\ndef connectURI(server, port): \\n    strURL = \"http://\" + server + \":\" + port\\n    return strURL\\n\\nprint(connectURI(\"multi.com\", \"80\"))\\nprint(connectURI(prot=\"80\", server=\"test.com\"))', 'print(\"기본값\")\\n\\ndef times (a=10,b=20):\\n    return a*b\\n\\nprint(times())\\nprint(times(5))\\nprint(times(5,6))\\n\\ndef connectURI(server, port): \\n    strURL = \"http://\" + server + \":\" + port\\n    return strURL\\n\\nprint(connectURI(\"multi.com\", \"80\"))\\nprint(connectURI(port=\"80\", server=\"test.com\"))', '# function2.py \\n#기본 값이 있는 경우\\ndef times(a=10, b=20):\\n    return a*b \\n\\n#호출\\nprint( times() )\\nprint( times(5) )\\nprint( times(5,6) )\\n\\n#키워드 인자 방식 전달\\ndef connectURI(server, port):\\n    str = \"http://\" + server + \":\" + port \\n    return str \\n\\nprint(connectURI(\"credu.com\", \"80\"))\\nprint(connectURI(port=\"80\",server=\"test.com\"))\\n\\n#가변인자(갯수가 정해져 있지 않은경우)\\n# * Tuple 이라는 힌트\\ndef union(*ar):\\n    #지역변수\\n    res = []\\n    for item in ar:\\n        for x in item:\\n            if x not in res:\\n                res.append(x)\\n    return res \\n\\nprint( union(\"HAM\",\"SPAM\") )\\nprint( union(\"HAM\",\"SPAM\",\"EGG\") )\\n\\n\\n#람다 함수 정의\\ng = lambda x,y:x*y\\nprint( g(2,3) )\\nprint( g(3,5) )\\nprint( (lambda  x:x*x)(3) )\\nprint( globals() )', '#가변인자(갯수가 정해져 있지 않은경우)\\n# * Tuple 이라는 힌트\\ndef union(*ar):\\n    #지역변수\\n    res = []\\n    for item in ar:\\n        for x in item:\\n            if x not in res:\\n                res.append(x)\\n    return res \\n\\nprint( union(\"HAM\",\"SPAM\") )\\nprint( union(\"HAM\",\"SPAM\",\"EGG\") )\\n\\n\\n#람다 함수 정의\\ng = lambda x,y:x*y\\nprint( g(2,3) )\\nprint( g(3,5) )\\nprint( (lambda  x:x*x)(3) )\\nprint( globals() )', '#가변인자(갯수가 정해져 있지 않은경우)\\n# * Tuple 이라는 힌트\\ndef union(*ar):\\n    #지역변수\\n    res = []\\n    for item in ar:\\n        for x in item:\\n            if x not in res:\\n                res.append(x)\\n    return res \\n\\nprint( union(\"HAM\",\"SPAM\") )\\nprint( union(\"HAM\",\"SPAM\",\"EGG\") )\\n\\n\\n#람다 함수 정의\\ng = lambda x,y:x*y\\nprint( g(2,3) )\\nprint( g(3,5) )\\nprint( (lambda  x:x*x)(3) )\\nprint( globals() )', '#가변인자(갯수가 정해져 있지 않은경우)\\n# * Tuple 이라는 힌트\\ndef union(*ar):\\n    #지역변수\\n    res = []\\n    for item in ar:\\n        for x in item:\\n            if x not in res:\\n                res.append(x)\\n    return res \\n\\nprint( union(\"HAM\",\"SPAM\") )\\nprint( union(\"HAM\",\"SPAM\",\"EGG\") )\\n\\n\\n#람다 함수 정의\\ng = lambda x,y:x*y\\nprint( g(2,3) )\\nprint( g(3,5) )\\nprint( (lambda  x:x*x)(3) )\\nprint( globals() )\\n\\nprint( globals())\\nprint ( dirc())', '#가변인자(갯수가 정해져 있지 않은경우)\\n# * Tuple 이라는 힌트\\ndef union(*ar):\\n    #지역변수\\n    res = []\\n    for item in ar:\\n        for x in item:\\n            if x not in res:\\n                res.append(x)\\n    return res \\n\\nprint( union(\"HAM\",\"SPAM\") )\\nprint( union(\"HAM\",\"SPAM\",\"EGG\") )\\n\\n\\n#람다 함수 정의\\ng = lambda x,y:x*y\\nprint( g(2,3) )\\nprint( g(3,5) )\\nprint( (lambda  x:x*x)(3) )\\nprint( globals() )\\n\\nprint( globals())\\nprint ( dir())'], 'Out': {}, 'get_ipython': <bound method InteractiveShell.get_ipython of <ipykernel.zmqshell.ZMQInteractiveShell object at 0x0000028EDD1B65F0>>, 'exit': <IPython.core.autocall.ZMQExitAutocall object at 0x0000028EDD1B7070>, 'quit': <IPython.core.autocall.ZMQExitAutocall object at 0x0000028EDD1B7070>, 'open': <function open at 0x0000028EDBB4E7A0>, '_': '', '__': '', '___': '', '__vsc_ipynb_file__': 'c:\\\\wd\\\\2_6_python_core.ipynb', '_i': '#가변인자(갯수가 정해져 있지 않은경우)\\n# * Tuple 이라는 힌트\\ndef union(*ar):\\n    #지역변수\\n    res = []\\n    for item in ar:\\n        for x in item:\\n            if x not in res:\\n                res.append(x)\\n    return res \\n\\nprint( union(\"HAM\",\"SPAM\") )\\nprint( union(\"HAM\",\"SPAM\",\"EGG\") )\\n\\n\\n#람다 함수 정의\\ng = lambda x,y:x*y\\nprint( g(2,3) )\\nprint( g(3,5) )\\nprint( (lambda  x:x*x)(3) )\\nprint( globals() )\\n\\nprint( globals())\\nprint ( dirc())', '_ii': '#가변인자(갯수가 정해져 있지 않은경우)\\n# * Tuple 이라는 힌트\\ndef union(*ar):\\n    #지역변수\\n    res = []\\n    for item in ar:\\n        for x in item:\\n            if x not in res:\\n                res.append(x)\\n    return res \\n\\nprint( union(\"HAM\",\"SPAM\") )\\nprint( union(\"HAM\",\"SPAM\",\"EGG\") )\\n\\n\\n#람다 함수 정의\\ng = lambda x,y:x*y\\nprint( g(2,3) )\\nprint( g(3,5) )\\nprint( (lambda  x:x*x)(3) )\\nprint( globals() )', '_iii': '#가변인자(갯수가 정해져 있지 않은경우)\\n# * Tuple 이라는 힌트\\ndef union(*ar):\\n    #지역변수\\n    res = []\\n    for item in ar:\\n        for x in item:\\n            if x not in res:\\n                res.append(x)\\n    return res \\n\\nprint( union(\"HAM\",\"SPAM\") )\\nprint( union(\"HAM\",\"SPAM\",\"EGG\") )\\n\\n\\n#람다 함수 정의\\ng = lambda x,y:x*y\\nprint( g(2,3) )\\nprint( g(3,5) )\\nprint( (lambda  x:x*x)(3) )\\nprint( globals() )', '_i1': 'print(\"--함수 이름 해석--\")\\n\\nx = 5\\ndef func(a) :\\n    return a + x\\n\\n\\nprint(func(1))\\ndef func2(a):\\n    x = 10\\n    return a + x\\n\\nprint(func2(1))', 'x': 5, 'func': <function func at 0x0000028EDD1D7C70>, 'func2': <function func2 at 0x0000028EDD1D7490>, '_i2': 'print(\"기본값\")\\n\\ndef times (a=10,b=20):\\n    return a*b\\n\\nprint(times())\\nprint(times(5))\\nprint(times(5,6))\\n\\ndef connectURI(server, port): \\n    strURL = \"http://\" + server + \":\" + port\\n    retrun strURL\\n\\nprint(connectURI(\"multi.com\", \"80\"))\\nprint(connectURI(prot=\"80\", server\"test.com\"))', '_i3': 'print(\"기본값\")\\n\\ndef times (a=10,b=20):\\n    return a*b\\n\\nprint(times())\\nprint(times(5))\\nprint(times(5,6))\\n\\ndef connectURI(server, port): \\n    strURL = \"http://\" + server + \":\" + port\\n    return strURL\\n\\nprint(connectURI(\"multi.com\", \"80\"))\\nprint(connectURI(prot=\"80\", server\"test.com\"))', '_i4': 'print(\"기본값\")\\n\\ndef times (a=10,b=20):\\n    return a*b\\n\\nprint(times())\\nprint(times(5))\\nprint(times(5,6))\\n\\ndef connectURI(server, port): \\n    strURL = \"http://\" + server + \":\" + port\\n    return strURL\\n\\nprint(connectURI(\"multi.com\", \"80\"))\\nprint(connectURI(prot=\"80\", server=\"test.com\"))', 'times': <function times at 0x0000028EDD2D0280>, 'connectURI': <function connectURI at 0x0000028EDD2D0430>, '_i5': 'print(\"기본값\")\\n\\ndef times (a=10,b=20):\\n    return a*b\\n\\nprint(times())\\nprint(times(5))\\nprint(times(5,6))\\n\\ndef connectURI(server, port): \\n    strURL = \"http://\" + server + \":\" + port\\n    return strURL\\n\\nprint(connectURI(\"multi.com\", \"80\"))\\nprint(connectURI(port=\"80\", server=\"test.com\"))', '_i6': '# function2.py \\n#기본 값이 있는 경우\\ndef times(a=10, b=20):\\n    return a*b \\n\\n#호출\\nprint( times() )\\nprint( times(5) )\\nprint( times(5,6) )\\n\\n#키워드 인자 방식 전달\\ndef connectURI(server, port):\\n    str = \"http://\" + server + \":\" + port \\n    return str \\n\\nprint(connectURI(\"credu.com\", \"80\"))\\nprint(connectURI(port=\"80\",server=\"test.com\"))\\n\\n#가변인자(갯수가 정해져 있지 않은경우)\\n# * Tuple 이라는 힌트\\ndef union(*ar):\\n    #지역변수\\n    res = []\\n    for item in ar:\\n        for x in item:\\n            if x not in res:\\n                res.append(x)\\n    return res \\n\\nprint( union(\"HAM\",\"SPAM\") )\\nprint( union(\"HAM\",\"SPAM\",\"EGG\") )\\n\\n\\n#람다 함수 정의\\ng = lambda x,y:x*y\\nprint( g(2,3) )\\nprint( g(3,5) )\\nprint( (lambda  x:x*x)(3) )\\nprint( globals() )', 'union': <function union at 0x0000028EDE851510>, 'g': <function <lambda> at 0x0000028EDE7CFAC0>, '_i7': '#가변인자(갯수가 정해져 있지 않은경우)\\n# * Tuple 이라는 힌트\\ndef union(*ar):\\n    #지역변수\\n    res = []\\n    for item in ar:\\n        for x in item:\\n            if x not in res:\\n                res.append(x)\\n    return res \\n\\nprint( union(\"HAM\",\"SPAM\") )\\nprint( union(\"HAM\",\"SPAM\",\"EGG\") )\\n\\n\\n#람다 함수 정의\\ng = lambda x,y:x*y\\nprint( g(2,3) )\\nprint( g(3,5) )\\nprint( (lambda  x:x*x)(3) )\\nprint( globals() )', 'builtins': <module 'builtins' (built-in)>, 'ipykernel': <module 'ipykernel' from 'C:\\\\Users\\\\student\\\\AppData\\\\Roaming\\\\Python\\\\Python310\\\\site-packages\\\\ipykernel\\\\__init__.py'>, 'debugpy': <module 'debugpy' from 'C:\\\\Users\\\\student\\\\AppData\\\\Roaming\\\\Python\\\\Python310\\\\site-packages\\\\debugpy\\\\__init__.py'>, 'file': 'C:\\\\Users\\\\student\\\\AppData\\\\Local\\\\Temp\\\\ipykernel_12268\\\\3990065800.py', '_i8': '#가변인자(갯수가 정해져 있지 않은경우)\\n# * Tuple 이라는 힌트\\ndef union(*ar):\\n    #지역변수\\n    res = []\\n    for item in ar:\\n        for x in item:\\n            if x not in res:\\n                res.append(x)\\n    return res \\n\\nprint( union(\"HAM\",\"SPAM\") )\\nprint( union(\"HAM\",\"SPAM\",\"EGG\") )\\n\\n\\n#람다 함수 정의\\ng = lambda x,y:x*y\\nprint( g(2,3) )\\nprint( g(3,5) )\\nprint( (lambda  x:x*x)(3) )\\nprint( globals() )', '_i9': '#가변인자(갯수가 정해져 있지 않은경우)\\n# * Tuple 이라는 힌트\\ndef union(*ar):\\n    #지역변수\\n    res = []\\n    for item in ar:\\n        for x in item:\\n            if x not in res:\\n                res.append(x)\\n    return res \\n\\nprint( union(\"HAM\",\"SPAM\") )\\nprint( union(\"HAM\",\"SPAM\",\"EGG\") )\\n\\n\\n#람다 함수 정의\\ng = lambda x,y:x*y\\nprint( g(2,3) )\\nprint( g(3,5) )\\nprint( (lambda  x:x*x)(3) )\\nprint( globals() )\\n\\nprint( globals())\\nprint ( dirc())', '_i10': '#가변인자(갯수가 정해져 있지 않은경우)\\n# * Tuple 이라는 힌트\\ndef union(*ar):\\n    #지역변수\\n    res = []\\n    for item in ar:\\n        for x in item:\\n            if x not in res:\\n                res.append(x)\\n    return res \\n\\nprint( union(\"HAM\",\"SPAM\") )\\nprint( union(\"HAM\",\"SPAM\",\"EGG\") )\\n\\n\\n#람다 함수 정의\\ng = lambda x,y:x*y\\nprint( g(2,3) )\\nprint( g(3,5) )\\nprint( (lambda  x:x*x)(3) )\\nprint( globals() )\\n\\nprint( globals())\\nprint ( dir())'}\n",
      "{'__name__': '__main__', '__doc__': 'Automatically created module for IPython interactive environment', '__package__': None, '__loader__': None, '__spec__': None, '__builtin__': <module 'builtins' (built-in)>, '__builtins__': <module 'builtins' (built-in)>, '_ih': ['', 'print(\"--함수 이름 해석--\")\\n\\nx = 5\\ndef func(a) :\\n    return a + x\\n\\n\\nprint(func(1))\\ndef func2(a):\\n    x = 10\\n    return a + x\\n\\nprint(func2(1))', 'print(\"기본값\")\\n\\ndef times (a=10,b=20):\\n    return a*b\\n\\nprint(times())\\nprint(times(5))\\nprint(times(5,6))\\n\\ndef connectURI(server, port): \\n    strURL = \"http://\" + server + \":\" + port\\n    retrun strURL\\n\\nprint(connectURI(\"multi.com\", \"80\"))\\nprint(connectURI(prot=\"80\", server\"test.com\"))', 'print(\"기본값\")\\n\\ndef times (a=10,b=20):\\n    return a*b\\n\\nprint(times())\\nprint(times(5))\\nprint(times(5,6))\\n\\ndef connectURI(server, port): \\n    strURL = \"http://\" + server + \":\" + port\\n    return strURL\\n\\nprint(connectURI(\"multi.com\", \"80\"))\\nprint(connectURI(prot=\"80\", server\"test.com\"))', 'print(\"기본값\")\\n\\ndef times (a=10,b=20):\\n    return a*b\\n\\nprint(times())\\nprint(times(5))\\nprint(times(5,6))\\n\\ndef connectURI(server, port): \\n    strURL = \"http://\" + server + \":\" + port\\n    return strURL\\n\\nprint(connectURI(\"multi.com\", \"80\"))\\nprint(connectURI(prot=\"80\", server=\"test.com\"))', 'print(\"기본값\")\\n\\ndef times (a=10,b=20):\\n    return a*b\\n\\nprint(times())\\nprint(times(5))\\nprint(times(5,6))\\n\\ndef connectURI(server, port): \\n    strURL = \"http://\" + server + \":\" + port\\n    return strURL\\n\\nprint(connectURI(\"multi.com\", \"80\"))\\nprint(connectURI(port=\"80\", server=\"test.com\"))', '# function2.py \\n#기본 값이 있는 경우\\ndef times(a=10, b=20):\\n    return a*b \\n\\n#호출\\nprint( times() )\\nprint( times(5) )\\nprint( times(5,6) )\\n\\n#키워드 인자 방식 전달\\ndef connectURI(server, port):\\n    str = \"http://\" + server + \":\" + port \\n    return str \\n\\nprint(connectURI(\"credu.com\", \"80\"))\\nprint(connectURI(port=\"80\",server=\"test.com\"))\\n\\n#가변인자(갯수가 정해져 있지 않은경우)\\n# * Tuple 이라는 힌트\\ndef union(*ar):\\n    #지역변수\\n    res = []\\n    for item in ar:\\n        for x in item:\\n            if x not in res:\\n                res.append(x)\\n    return res \\n\\nprint( union(\"HAM\",\"SPAM\") )\\nprint( union(\"HAM\",\"SPAM\",\"EGG\") )\\n\\n\\n#람다 함수 정의\\ng = lambda x,y:x*y\\nprint( g(2,3) )\\nprint( g(3,5) )\\nprint( (lambda  x:x*x)(3) )\\nprint( globals() )', '#가변인자(갯수가 정해져 있지 않은경우)\\n# * Tuple 이라는 힌트\\ndef union(*ar):\\n    #지역변수\\n    res = []\\n    for item in ar:\\n        for x in item:\\n            if x not in res:\\n                res.append(x)\\n    return res \\n\\nprint( union(\"HAM\",\"SPAM\") )\\nprint( union(\"HAM\",\"SPAM\",\"EGG\") )\\n\\n\\n#람다 함수 정의\\ng = lambda x,y:x*y\\nprint( g(2,3) )\\nprint( g(3,5) )\\nprint( (lambda  x:x*x)(3) )\\nprint( globals() )', '#가변인자(갯수가 정해져 있지 않은경우)\\n# * Tuple 이라는 힌트\\ndef union(*ar):\\n    #지역변수\\n    res = []\\n    for item in ar:\\n        for x in item:\\n            if x not in res:\\n                res.append(x)\\n    return res \\n\\nprint( union(\"HAM\",\"SPAM\") )\\nprint( union(\"HAM\",\"SPAM\",\"EGG\") )\\n\\n\\n#람다 함수 정의\\ng = lambda x,y:x*y\\nprint( g(2,3) )\\nprint( g(3,5) )\\nprint( (lambda  x:x*x)(3) )\\nprint( globals() )', '#가변인자(갯수가 정해져 있지 않은경우)\\n# * Tuple 이라는 힌트\\ndef union(*ar):\\n    #지역변수\\n    res = []\\n    for item in ar:\\n        for x in item:\\n            if x not in res:\\n                res.append(x)\\n    return res \\n\\nprint( union(\"HAM\",\"SPAM\") )\\nprint( union(\"HAM\",\"SPAM\",\"EGG\") )\\n\\n\\n#람다 함수 정의\\ng = lambda x,y:x*y\\nprint( g(2,3) )\\nprint( g(3,5) )\\nprint( (lambda  x:x*x)(3) )\\nprint( globals() )\\n\\nprint( globals())\\nprint ( dirc())', '#가변인자(갯수가 정해져 있지 않은경우)\\n# * Tuple 이라는 힌트\\ndef union(*ar):\\n    #지역변수\\n    res = []\\n    for item in ar:\\n        for x in item:\\n            if x not in res:\\n                res.append(x)\\n    return res \\n\\nprint( union(\"HAM\",\"SPAM\") )\\nprint( union(\"HAM\",\"SPAM\",\"EGG\") )\\n\\n\\n#람다 함수 정의\\ng = lambda x,y:x*y\\nprint( g(2,3) )\\nprint( g(3,5) )\\nprint( (lambda  x:x*x)(3) )\\nprint( globals() )\\n\\nprint( globals())\\nprint ( dir())'], '_oh': {}, '_dh': [WindowsPath('c:/wd')], 'In': ['', 'print(\"--함수 이름 해석--\")\\n\\nx = 5\\ndef func(a) :\\n    return a + x\\n\\n\\nprint(func(1))\\ndef func2(a):\\n    x = 10\\n    return a + x\\n\\nprint(func2(1))', 'print(\"기본값\")\\n\\ndef times (a=10,b=20):\\n    return a*b\\n\\nprint(times())\\nprint(times(5))\\nprint(times(5,6))\\n\\ndef connectURI(server, port): \\n    strURL = \"http://\" + server + \":\" + port\\n    retrun strURL\\n\\nprint(connectURI(\"multi.com\", \"80\"))\\nprint(connectURI(prot=\"80\", server\"test.com\"))', 'print(\"기본값\")\\n\\ndef times (a=10,b=20):\\n    return a*b\\n\\nprint(times())\\nprint(times(5))\\nprint(times(5,6))\\n\\ndef connectURI(server, port): \\n    strURL = \"http://\" + server + \":\" + port\\n    return strURL\\n\\nprint(connectURI(\"multi.com\", \"80\"))\\nprint(connectURI(prot=\"80\", server\"test.com\"))', 'print(\"기본값\")\\n\\ndef times (a=10,b=20):\\n    return a*b\\n\\nprint(times())\\nprint(times(5))\\nprint(times(5,6))\\n\\ndef connectURI(server, port): \\n    strURL = \"http://\" + server + \":\" + port\\n    return strURL\\n\\nprint(connectURI(\"multi.com\", \"80\"))\\nprint(connectURI(prot=\"80\", server=\"test.com\"))', 'print(\"기본값\")\\n\\ndef times (a=10,b=20):\\n    return a*b\\n\\nprint(times())\\nprint(times(5))\\nprint(times(5,6))\\n\\ndef connectURI(server, port): \\n    strURL = \"http://\" + server + \":\" + port\\n    return strURL\\n\\nprint(connectURI(\"multi.com\", \"80\"))\\nprint(connectURI(port=\"80\", server=\"test.com\"))', '# function2.py \\n#기본 값이 있는 경우\\ndef times(a=10, b=20):\\n    return a*b \\n\\n#호출\\nprint( times() )\\nprint( times(5) )\\nprint( times(5,6) )\\n\\n#키워드 인자 방식 전달\\ndef connectURI(server, port):\\n    str = \"http://\" + server + \":\" + port \\n    return str \\n\\nprint(connectURI(\"credu.com\", \"80\"))\\nprint(connectURI(port=\"80\",server=\"test.com\"))\\n\\n#가변인자(갯수가 정해져 있지 않은경우)\\n# * Tuple 이라는 힌트\\ndef union(*ar):\\n    #지역변수\\n    res = []\\n    for item in ar:\\n        for x in item:\\n            if x not in res:\\n                res.append(x)\\n    return res \\n\\nprint( union(\"HAM\",\"SPAM\") )\\nprint( union(\"HAM\",\"SPAM\",\"EGG\") )\\n\\n\\n#람다 함수 정의\\ng = lambda x,y:x*y\\nprint( g(2,3) )\\nprint( g(3,5) )\\nprint( (lambda  x:x*x)(3) )\\nprint( globals() )', '#가변인자(갯수가 정해져 있지 않은경우)\\n# * Tuple 이라는 힌트\\ndef union(*ar):\\n    #지역변수\\n    res = []\\n    for item in ar:\\n        for x in item:\\n            if x not in res:\\n                res.append(x)\\n    return res \\n\\nprint( union(\"HAM\",\"SPAM\") )\\nprint( union(\"HAM\",\"SPAM\",\"EGG\") )\\n\\n\\n#람다 함수 정의\\ng = lambda x,y:x*y\\nprint( g(2,3) )\\nprint( g(3,5) )\\nprint( (lambda  x:x*x)(3) )\\nprint( globals() )', '#가변인자(갯수가 정해져 있지 않은경우)\\n# * Tuple 이라는 힌트\\ndef union(*ar):\\n    #지역변수\\n    res = []\\n    for item in ar:\\n        for x in item:\\n            if x not in res:\\n                res.append(x)\\n    return res \\n\\nprint( union(\"HAM\",\"SPAM\") )\\nprint( union(\"HAM\",\"SPAM\",\"EGG\") )\\n\\n\\n#람다 함수 정의\\ng = lambda x,y:x*y\\nprint( g(2,3) )\\nprint( g(3,5) )\\nprint( (lambda  x:x*x)(3) )\\nprint( globals() )', '#가변인자(갯수가 정해져 있지 않은경우)\\n# * Tuple 이라는 힌트\\ndef union(*ar):\\n    #지역변수\\n    res = []\\n    for item in ar:\\n        for x in item:\\n            if x not in res:\\n                res.append(x)\\n    return res \\n\\nprint( union(\"HAM\",\"SPAM\") )\\nprint( union(\"HAM\",\"SPAM\",\"EGG\") )\\n\\n\\n#람다 함수 정의\\ng = lambda x,y:x*y\\nprint( g(2,3) )\\nprint( g(3,5) )\\nprint( (lambda  x:x*x)(3) )\\nprint( globals() )\\n\\nprint( globals())\\nprint ( dirc())', '#가변인자(갯수가 정해져 있지 않은경우)\\n# * Tuple 이라는 힌트\\ndef union(*ar):\\n    #지역변수\\n    res = []\\n    for item in ar:\\n        for x in item:\\n            if x not in res:\\n                res.append(x)\\n    return res \\n\\nprint( union(\"HAM\",\"SPAM\") )\\nprint( union(\"HAM\",\"SPAM\",\"EGG\") )\\n\\n\\n#람다 함수 정의\\ng = lambda x,y:x*y\\nprint( g(2,3) )\\nprint( g(3,5) )\\nprint( (lambda  x:x*x)(3) )\\nprint( globals() )\\n\\nprint( globals())\\nprint ( dir())'], 'Out': {}, 'get_ipython': <bound method InteractiveShell.get_ipython of <ipykernel.zmqshell.ZMQInteractiveShell object at 0x0000028EDD1B65F0>>, 'exit': <IPython.core.autocall.ZMQExitAutocall object at 0x0000028EDD1B7070>, 'quit': <IPython.core.autocall.ZMQExitAutocall object at 0x0000028EDD1B7070>, 'open': <function open at 0x0000028EDBB4E7A0>, '_': '', '__': '', '___': '', '__vsc_ipynb_file__': 'c:\\\\wd\\\\2_6_python_core.ipynb', '_i': '#가변인자(갯수가 정해져 있지 않은경우)\\n# * Tuple 이라는 힌트\\ndef union(*ar):\\n    #지역변수\\n    res = []\\n    for item in ar:\\n        for x in item:\\n            if x not in res:\\n                res.append(x)\\n    return res \\n\\nprint( union(\"HAM\",\"SPAM\") )\\nprint( union(\"HAM\",\"SPAM\",\"EGG\") )\\n\\n\\n#람다 함수 정의\\ng = lambda x,y:x*y\\nprint( g(2,3) )\\nprint( g(3,5) )\\nprint( (lambda  x:x*x)(3) )\\nprint( globals() )\\n\\nprint( globals())\\nprint ( dirc())', '_ii': '#가변인자(갯수가 정해져 있지 않은경우)\\n# * Tuple 이라는 힌트\\ndef union(*ar):\\n    #지역변수\\n    res = []\\n    for item in ar:\\n        for x in item:\\n            if x not in res:\\n                res.append(x)\\n    return res \\n\\nprint( union(\"HAM\",\"SPAM\") )\\nprint( union(\"HAM\",\"SPAM\",\"EGG\") )\\n\\n\\n#람다 함수 정의\\ng = lambda x,y:x*y\\nprint( g(2,3) )\\nprint( g(3,5) )\\nprint( (lambda  x:x*x)(3) )\\nprint( globals() )', '_iii': '#가변인자(갯수가 정해져 있지 않은경우)\\n# * Tuple 이라는 힌트\\ndef union(*ar):\\n    #지역변수\\n    res = []\\n    for item in ar:\\n        for x in item:\\n            if x not in res:\\n                res.append(x)\\n    return res \\n\\nprint( union(\"HAM\",\"SPAM\") )\\nprint( union(\"HAM\",\"SPAM\",\"EGG\") )\\n\\n\\n#람다 함수 정의\\ng = lambda x,y:x*y\\nprint( g(2,3) )\\nprint( g(3,5) )\\nprint( (lambda  x:x*x)(3) )\\nprint( globals() )', '_i1': 'print(\"--함수 이름 해석--\")\\n\\nx = 5\\ndef func(a) :\\n    return a + x\\n\\n\\nprint(func(1))\\ndef func2(a):\\n    x = 10\\n    return a + x\\n\\nprint(func2(1))', 'x': 5, 'func': <function func at 0x0000028EDD1D7C70>, 'func2': <function func2 at 0x0000028EDD1D7490>, '_i2': 'print(\"기본값\")\\n\\ndef times (a=10,b=20):\\n    return a*b\\n\\nprint(times())\\nprint(times(5))\\nprint(times(5,6))\\n\\ndef connectURI(server, port): \\n    strURL = \"http://\" + server + \":\" + port\\n    retrun strURL\\n\\nprint(connectURI(\"multi.com\", \"80\"))\\nprint(connectURI(prot=\"80\", server\"test.com\"))', '_i3': 'print(\"기본값\")\\n\\ndef times (a=10,b=20):\\n    return a*b\\n\\nprint(times())\\nprint(times(5))\\nprint(times(5,6))\\n\\ndef connectURI(server, port): \\n    strURL = \"http://\" + server + \":\" + port\\n    return strURL\\n\\nprint(connectURI(\"multi.com\", \"80\"))\\nprint(connectURI(prot=\"80\", server\"test.com\"))', '_i4': 'print(\"기본값\")\\n\\ndef times (a=10,b=20):\\n    return a*b\\n\\nprint(times())\\nprint(times(5))\\nprint(times(5,6))\\n\\ndef connectURI(server, port): \\n    strURL = \"http://\" + server + \":\" + port\\n    return strURL\\n\\nprint(connectURI(\"multi.com\", \"80\"))\\nprint(connectURI(prot=\"80\", server=\"test.com\"))', 'times': <function times at 0x0000028EDD2D0280>, 'connectURI': <function connectURI at 0x0000028EDD2D0430>, '_i5': 'print(\"기본값\")\\n\\ndef times (a=10,b=20):\\n    return a*b\\n\\nprint(times())\\nprint(times(5))\\nprint(times(5,6))\\n\\ndef connectURI(server, port): \\n    strURL = \"http://\" + server + \":\" + port\\n    return strURL\\n\\nprint(connectURI(\"multi.com\", \"80\"))\\nprint(connectURI(port=\"80\", server=\"test.com\"))', '_i6': '# function2.py \\n#기본 값이 있는 경우\\ndef times(a=10, b=20):\\n    return a*b \\n\\n#호출\\nprint( times() )\\nprint( times(5) )\\nprint( times(5,6) )\\n\\n#키워드 인자 방식 전달\\ndef connectURI(server, port):\\n    str = \"http://\" + server + \":\" + port \\n    return str \\n\\nprint(connectURI(\"credu.com\", \"80\"))\\nprint(connectURI(port=\"80\",server=\"test.com\"))\\n\\n#가변인자(갯수가 정해져 있지 않은경우)\\n# * Tuple 이라는 힌트\\ndef union(*ar):\\n    #지역변수\\n    res = []\\n    for item in ar:\\n        for x in item:\\n            if x not in res:\\n                res.append(x)\\n    return res \\n\\nprint( union(\"HAM\",\"SPAM\") )\\nprint( union(\"HAM\",\"SPAM\",\"EGG\") )\\n\\n\\n#람다 함수 정의\\ng = lambda x,y:x*y\\nprint( g(2,3) )\\nprint( g(3,5) )\\nprint( (lambda  x:x*x)(3) )\\nprint( globals() )', 'union': <function union at 0x0000028EDE851510>, 'g': <function <lambda> at 0x0000028EDE7CFAC0>, '_i7': '#가변인자(갯수가 정해져 있지 않은경우)\\n# * Tuple 이라는 힌트\\ndef union(*ar):\\n    #지역변수\\n    res = []\\n    for item in ar:\\n        for x in item:\\n            if x not in res:\\n                res.append(x)\\n    return res \\n\\nprint( union(\"HAM\",\"SPAM\") )\\nprint( union(\"HAM\",\"SPAM\",\"EGG\") )\\n\\n\\n#람다 함수 정의\\ng = lambda x,y:x*y\\nprint( g(2,3) )\\nprint( g(3,5) )\\nprint( (lambda  x:x*x)(3) )\\nprint( globals() )', 'builtins': <module 'builtins' (built-in)>, 'ipykernel': <module 'ipykernel' from 'C:\\\\Users\\\\student\\\\AppData\\\\Roaming\\\\Python\\\\Python310\\\\site-packages\\\\ipykernel\\\\__init__.py'>, 'debugpy': <module 'debugpy' from 'C:\\\\Users\\\\student\\\\AppData\\\\Roaming\\\\Python\\\\Python310\\\\site-packages\\\\debugpy\\\\__init__.py'>, 'file': 'C:\\\\Users\\\\student\\\\AppData\\\\Local\\\\Temp\\\\ipykernel_12268\\\\3990065800.py', '_i8': '#가변인자(갯수가 정해져 있지 않은경우)\\n# * Tuple 이라는 힌트\\ndef union(*ar):\\n    #지역변수\\n    res = []\\n    for item in ar:\\n        for x in item:\\n            if x not in res:\\n                res.append(x)\\n    return res \\n\\nprint( union(\"HAM\",\"SPAM\") )\\nprint( union(\"HAM\",\"SPAM\",\"EGG\") )\\n\\n\\n#람다 함수 정의\\ng = lambda x,y:x*y\\nprint( g(2,3) )\\nprint( g(3,5) )\\nprint( (lambda  x:x*x)(3) )\\nprint( globals() )', '_i9': '#가변인자(갯수가 정해져 있지 않은경우)\\n# * Tuple 이라는 힌트\\ndef union(*ar):\\n    #지역변수\\n    res = []\\n    for item in ar:\\n        for x in item:\\n            if x not in res:\\n                res.append(x)\\n    return res \\n\\nprint( union(\"HAM\",\"SPAM\") )\\nprint( union(\"HAM\",\"SPAM\",\"EGG\") )\\n\\n\\n#람다 함수 정의\\ng = lambda x,y:x*y\\nprint( g(2,3) )\\nprint( g(3,5) )\\nprint( (lambda  x:x*x)(3) )\\nprint( globals() )\\n\\nprint( globals())\\nprint ( dirc())', '_i10': '#가변인자(갯수가 정해져 있지 않은경우)\\n# * Tuple 이라는 힌트\\ndef union(*ar):\\n    #지역변수\\n    res = []\\n    for item in ar:\\n        for x in item:\\n            if x not in res:\\n                res.append(x)\\n    return res \\n\\nprint( union(\"HAM\",\"SPAM\") )\\nprint( union(\"HAM\",\"SPAM\",\"EGG\") )\\n\\n\\n#람다 함수 정의\\ng = lambda x,y:x*y\\nprint( g(2,3) )\\nprint( g(3,5) )\\nprint( (lambda  x:x*x)(3) )\\nprint( globals() )\\n\\nprint( globals())\\nprint ( dir())'}\n",
      "['In', 'Out', '_', '__', '___', '__builtin__', '__builtins__', '__doc__', '__loader__', '__name__', '__package__', '__spec__', '__vsc_ipynb_file__', '_dh', '_i', '_i1', '_i10', '_i2', '_i3', '_i4', '_i5', '_i6', '_i7', '_i8', '_i9', '_ih', '_ii', '_iii', '_oh', 'builtins', 'connectURI', 'debugpy', 'exit', 'file', 'func', 'func2', 'g', 'get_ipython', 'ipykernel', 'open', 'quit', 'times', 'union', 'x']\n"
     ]
    }
   ],
   "source": [
    "#가변인자(갯수가 정해져 있지 않은경우)\n",
    "# * Tuple 이라는 힌트\n",
    "def union(*ar):\n",
    "    #지역변수\n",
    "    res = []\n",
    "    for item in ar:\n",
    "        for x in item:\n",
    "            if x not in res:\n",
    "                res.append(x)\n",
    "    return res \n",
    "\n",
    "print( union(\"HAM\",\"SPAM\") )\n",
    "print( union(\"HAM\",\"SPAM\",\"EGG\") )\n",
    "\n",
    "\n",
    "#람다 함수 정의\n",
    "g = lambda x,y:x*y\n",
    "print( g(2,3) )\n",
    "print( g(3,5) )\n",
    "print( (lambda  x:x*x)(3) )\n",
    "print( globals() )\n",
    "\n",
    "print( globals())\n",
    "print ( dir())"
   ]
  },
  {
   "cell_type": "code",
   "execution_count": 12,
   "id": "6a09e188",
   "metadata": {},
   "outputs": [
    {
     "name": "stdout",
     "output_type": "stream",
     "text": [
      "Grade is C\n"
     ]
    }
   ],
   "source": [
    "## if elif 예제\n",
    "\n",
    "score = int(input('점수를 입력: '))\n",
    "if 90 <= score <= 100:\n",
    "    grade = \"A\"\n",
    "elif 80 <= score < 90:\n",
    "    grade = \"B\"\n",
    "elif 70 <= score < 80:\n",
    "    grade = \"C\"\n",
    "elif 60 <= score < 70:\n",
    "    grade = \"D\"\n",
    "else:\n",
    "    grace = \"F\"\n",
    "    \n",
    "print(\"Grade is \" + grade)\n"
   ]
  },
  {
   "cell_type": "markdown",
   "id": "8d76fad0",
   "metadata": {},
   "source": [
    "### While, For"
   ]
  },
  {
   "cell_type": "code",
   "execution_count": null,
   "id": "db5344b6",
   "metadata": {},
   "outputs": [
    {
     "ename": "SyntaxError",
     "evalue": "invalid syntax (3812135781.py, line 13)",
     "output_type": "error",
     "traceback": [
      "\u001b[1;36m  Cell \u001b[1;32mIn[21], line 13\u001b[1;36m\u001b[0m\n\u001b[1;33m    i**2 for i in lst\u001b[0m\n\u001b[1;37m         ^\u001b[0m\n\u001b[1;31mSyntaxError\u001b[0m\u001b[1;31m:\u001b[0m invalid syntax\n"
     ]
    }
   ],
   "source": [
    "#iteration 이 가능한 객체 (list, tuple, dirc, str)\n",
    "# for i in range (5) :\n",
    "\n",
    "list(range(10))\n",
    "list(range(5,10))\n",
    "list(range(10,0,-1))\n",
    "list(range(10,25,5))\n",
    "\n",
    "#numpy : 금요일\n",
    "\n"
   ]
  },
  {
   "cell_type": "markdown",
   "id": "6aae61ed",
   "metadata": {},
   "source": [
    "# demoLoop.py"
   ]
  },
  {
   "cell_type": "code",
   "execution_count": 23,
   "id": "59736ae5",
   "metadata": {},
   "outputs": [
    {
     "name": "stdout",
     "output_type": "stream",
     "text": [
      "5\n",
      "4\n",
      "3\n",
      "2\n",
      "1\n",
      "---for in---\n",
      "[100, 'apple', 3.14]\n",
      "[100, 'apple', 3.14]\n",
      "[100, 'apple', 3.14]\n",
      "(100, 'apple')\n",
      "(200, 'banana')\n"
     ]
    }
   ],
   "source": [
    "value = 5\n",
    "while value > 0:\n",
    "    print(value)\n",
    "    value -= 1\n",
    "\n",
    "print(\"---for in---\")\n",
    "lst = [ 100, \"apple\", 3.14]\n",
    "for item in lst:\n",
    "    print(lst)\n",
    "\n",
    "\n",
    "fruits = {100:\"apple\", 200:\"banana\"}\n",
    "for item in fruits.items():\n",
    "    print(item)"
   ]
  },
  {
   "cell_type": "code",
   "execution_count": null,
   "id": "b727f05c",
   "metadata": {},
   "outputs": [
    {
     "name": "stdout",
     "output_type": "stream",
     "text": [
      "---수열함수---\n",
      "[1, 2, 3, 4, 5, 6, 7, 8, 9, 10]\n",
      "[2000, 2001, 2002, 2003, 2004, 2005, 2006, 2007, 2008, 2009, 2010, 2011, 2012, 2013, 2014, 2015, 2016, 2017, 2018, 2019, 2020, 2021, 2022, 2023, 2024, 2025]\n",
      "[1, 2, 3, 4, 5, 6, 7, 8, 9, 10, 11, 12, 13, 14, 15, 16, 17, 18, 19, 20, 21, 22, 23, 24, 25, 26, 27, 28, 29, 30, 31]\n",
      "---list 내장---\n",
      "[1, 2, 3, 4, 5, 6, 7, 8, 9, 10]\n",
      "[36, 49, 64, 81, 100]\n",
      "[5, 4]\n"
     ]
    }
   ],
   "source": [
    "print(\"---수열함수---\")\n",
    "print(list(range(1,11)))\n",
    "print(list(range(2000,2026)))\n",
    "print(list(range(1,32)))\n",
    "\n",
    "\n",
    "\n",
    "print(\"---list 내장---\")\n",
    "lst = list(range(1,11))\n",
    "print(lst)\n",
    "print( [i**2 for i in lst if i>5])\n",
    "\n",
    "\n",
    "\n",
    "tp = (\"apple\", \"kiwi\")\n",
    "print( [len(i) for i in tp])"
   ]
  },
  {
   "cell_type": "markdown",
   "id": "8593825c",
   "metadata": {},
   "source": []
  },
  {
   "cell_type": "code",
   "execution_count": null,
   "id": "294be162",
   "metadata": {},
   "outputs": [
    {
     "name": "stdout",
     "output_type": "stream",
     "text": [
      "--필터링 함수--\n",
      "25\n",
      "30\n",
      "35\n",
      "40\n",
      "45\n",
      "--람다함수사용--\n",
      "25\n",
      "30\n",
      "35\n",
      "40\n",
      "45\n"
     ]
    }
   ],
   "source": [
    "## 필터링 함수\n",
    "print(\"--필터링 함수--\")\n",
    "lst = list(range(5,50,5)) ## 수열을 입력.\n",
    "def getBiggerThan20(i):\n",
    "    return i > 20\n",
    "\n",
    "itemL = filter(getBiggerThan20, lst)\n",
    "for item in itemL:\n",
    "    print(item)\n",
    "\n",
    "\n",
    "print(\"--람다함수사용--\")\n",
    "itemL = filter(lambda x:x>20, lst)\n",
    "\n",
    "for item in itemL:\n",
    "    print(item)\n"
   ]
  },
  {
   "cell_type": "markdown",
   "id": "ed245b7f",
   "metadata": {},
   "source": [
    "## demoClass.py"
   ]
  },
  {
   "cell_type": "code",
   "execution_count": 32,
   "id": "8a73c6ee",
   "metadata": {},
   "outputs": [
    {
     "name": "stdout",
     "output_type": "stream",
     "text": [
      "My name is 전우치\n",
      "My name is default name\n"
     ]
    }
   ],
   "source": [
    "#1) Class 정의\n",
    "class Person:\n",
    "    #초기화 method\n",
    "    def __init__(self):\n",
    "        self.name = \"default name\"\n",
    "    def print(self):\n",
    "        #f-string문법 : 포맷 스트링\n",
    "        #print(\"My name is {0}\".format(self.name))\n",
    "        print(f\"My name is {self.name}\")\n",
    "        \n",
    "\n",
    "#2) 인스턴스 생성\n",
    "p1 = Person()\n",
    "p2 = Person()   \n",
    "p1.name = \"전우치\"\n",
    "#3) method 호출 \n",
    "\n",
    "p1.print()\n",
    "p2.print()"
   ]
  },
  {
   "cell_type": "code",
   "execution_count": null,
   "id": "3dd2bc6a",
   "metadata": {},
   "outputs": [],
   "source": []
  }
 ],
 "metadata": {
  "kernelspec": {
   "display_name": "Python 3",
   "language": "python",
   "name": "python3"
  },
  "language_info": {
   "codemirror_mode": {
    "name": "ipython",
    "version": 3
   },
   "file_extension": ".py",
   "mimetype": "text/x-python",
   "name": "python",
   "nbconvert_exporter": "python",
   "pygments_lexer": "ipython3",
   "version": "3.10.9"
  }
 },
 "nbformat": 4,
 "nbformat_minor": 5
}
