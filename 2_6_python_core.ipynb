{
 "cells": [
  {
   "cell_type": "code",
   "execution_count": 1,
   "id": "2f16e863",
   "metadata": {},
   "outputs": [
    {
     "name": "stdout",
     "output_type": "stream",
     "text": [
      "9\n",
      "24\n",
      " 파\n",
      "력해\n",
      " pytho\n",
      "erful\n",
      "이번에는\n",
      "다중의 라인을\n",
      "저장합니다.\n"
     ]
    }
   ],
   "source": [
    "strA = \" 파이썬은 강력해\"\n",
    "strB = \" python is very powerful\"\n",
    "\n",
    "print(len(strA))\n",
    "print(len(strB))\n",
    "print(strA[:2])\n",
    "print(strA[-2:])\n",
    "print(strB[:6])\n",
    "print(strB[-5:])\n",
    "\n",
    "strC = \"\"\"이번에는\n",
    "다중의 라인을\n",
    "저장합니다.\"\"\"\n",
    "\n",
    "\n",
    "print(strC)"
   ]
  },
  {
   "cell_type": "code",
   "execution_count": 2,
   "id": "0d576aa1",
   "metadata": {},
   "outputs": [
    {
     "name": "stdout",
     "output_type": "stream",
     "text": [
      "---list format---\n",
      "3\n",
      "[10, 20, 30, 40]\n",
      "[10, 30, 40]\n",
      "[10, 30, 40, 'white']\n",
      "---Tuple---\n",
      "3\n",
      "200\n",
      "2\n"
     ]
    }
   ],
   "source": [
    "print(\"---list format---\")\n",
    "lst = [10,20,30]\n",
    "print(len(lst))\n",
    "lst.append(40)\n",
    "print(lst)\n",
    "lst.remove(20)\n",
    "print(lst)\n",
    "lst.insert(4, \"white\")\n",
    "print(lst)\n",
    "\n",
    "print(\"---Tuple---\")\n",
    "\n",
    "tp = ( 100, 200, 300)\n",
    "print(len(tp))\n",
    "print(tp[1])\n",
    "print(tp.index(300))"
   ]
  },
  {
   "cell_type": "code",
   "execution_count": 3,
   "id": "d9c5527b",
   "metadata": {},
   "outputs": [
    {
     "name": "stdout",
     "output_type": "stream",
     "text": [
      "---형식변환---\n",
      "{1, 2, 3}\n",
      "[1, 2, 3, 10]\n",
      "(1, 2, 3, 10)\n"
     ]
    }
   ],
   "source": [
    "print(\"---형식변환---\")\n",
    "\n",
    "\n",
    "c = set ((1,2,3))\n",
    "print(c)\n",
    "d = list(c)\n",
    "d.append(10)\n",
    "print(d)\n",
    "e = tuple(d)\n",
    "print(e)\n",
    "\n"
   ]
  },
  {
   "cell_type": "markdown",
   "id": "49aeda12",
   "metadata": {},
   "source": [
    "Dictionary (1)"
   ]
  },
  {
   "cell_type": "code",
   "execution_count": 4,
   "id": "5bc66138",
   "metadata": {},
   "outputs": [
    {
     "name": "stdout",
     "output_type": "stream",
     "text": [
      "---dic---\n",
      "{'apple': 'red', 'banana': 'yellow', 'cherry': 'red'}\n",
      "red\n",
      "{'banana': 'yellow', 'cherry': 'red'}\n"
     ]
    }
   ],
   "source": [
    "print(\"---dic---\")\n",
    "colors = {\"apple\":\"red\", \"banana\":\"yellow\"}\n",
    "\n",
    "colors[\"cherry\"] = \"red\"\n",
    "print(colors)\n",
    "\n",
    "print(colors[\"apple\"])\n",
    "del colors[\"apple\"]\n",
    "print(colors) \n"
   ]
  },
  {
   "cell_type": "markdown",
   "id": "4685a2a2",
   "metadata": {},
   "source": [
    "Dictionary (2)"
   ]
  },
  {
   "cell_type": "code",
   "execution_count": 5,
   "id": "2accdd03",
   "metadata": {},
   "outputs": [
    {
     "name": "stdout",
     "output_type": "stream",
     "text": [
      "{'iphone': 5, 'ipad': 10, 'mac': 7, 'dell': 20}\n",
      "{'iphone': 9, 'ipad': 10, 'mac': 7, 'dell': 20}\n",
      "{'iphone': 9, 'mac': 7, 'dell': 20}\n",
      "('iphone', 9)\n",
      "('mac', 7)\n",
      "('dell', 20)\n",
      "iphone 9\n",
      "mac 7\n",
      "dell 20\n"
     ]
    }
   ],
   "source": [
    "device = { \"iphone\":5, \"ipad\":10, \"mac\":7 }\n",
    "device[\"dell\"] = 20\n",
    "print(device)\n",
    "device[\"iphone\"] = 9\n",
    "print(device)\n",
    "del device[\"ipad\"]\n",
    "print(device)\n",
    "\n",
    "for item in device.items():\n",
    "    print(item)\n",
    "\n",
    "for k,v in device.items():\n",
    "    print(k,v)\n"
   ]
  },
  {
   "cell_type": "markdown",
   "id": "8c0a7061",
   "metadata": {},
   "source": [
    "파이썬의 자료 형식과 연산자 사용하기. bool , 연산자(산술,관계,논리,비트)"
   ]
  },
  {
   "cell_type": "code",
   "execution_count": 6,
   "id": "ae705479",
   "metadata": {},
   "outputs": [
    {
     "name": "stdout",
     "output_type": "stream",
     "text": [
      "---ture and false---\n",
      "False\n",
      "True\n",
      "True\n",
      "True\n",
      "False\n",
      "True\n",
      "True\n",
      "True\n",
      "2.5\n",
      "2\n",
      "1\n",
      "0\n"
     ]
    }
   ],
   "source": [
    "print(\"---ture and false---\")\n",
    "print(bool(0))\n",
    "print(bool(1))\n",
    "print(bool(\"demo\"))\n",
    "print(bool([1,2,3]))\n",
    "print(bool(None))\n",
    "print(bool(\"none\"))\n",
    "print(True and True and True)\n",
    "print(bool([0,1,2]))\n",
    "print(5/2)\n",
    "print(5//2)\n",
    "print(5%2) # 홀 짝, 홀 : 1\n",
    "print(4%2) # 홀 짝, 짝 : 0"
   ]
  },
  {
   "cell_type": "markdown",
   "id": "355ac60c",
   "metadata": {},
   "source": [
    "파이썬의 함수사용과 분기반복문"
   ]
  },
  {
   "cell_type": "code",
   "execution_count": 7,
   "id": "e17179d6",
   "metadata": {},
   "outputs": [
    {
     "name": "stdout",
     "output_type": "stream",
     "text": [
      "<function times at 0x0000023AD1997010>\n",
      "30\n",
      "<function times at 0x0000023AD1997010>\n"
     ]
    }
   ],
   "source": [
    "#def <함수명>(인자1, 인자2, ... 인자N):\n",
    "#   <구문>\n",
    "#   return <반환값>\n",
    "\n",
    "def times(a,b):\n",
    "    return a*b\n",
    "\n",
    "print(times)\n",
    "print(times(5,6))\n",
    "myTimes = times\n",
    "print(myTimes)\n",
    "\n",
    "#return"
   ]
  },
  {
   "cell_type": "markdown",
   "id": "1fdf27d3",
   "metadata": {},
   "source": [
    "## 0805_3장.파이썬의함수사용과분기반복문"
   ]
  },
  {
   "cell_type": "markdown",
   "id": "b2fadcbd",
   "metadata": {},
   "source": [
    "가변 인자 * 를 함수 인자 앞에 붙이면 정해지지 않은 수의 인자를 받음. (* tuple 형식. )"
   ]
  },
  {
   "cell_type": "code",
   "execution_count": 8,
   "id": "461130b8",
   "metadata": {},
   "outputs": [
    {
     "name": "stdout",
     "output_type": "stream",
     "text": [
      "--함수 이름 해석--\n",
      "6\n",
      "11\n"
     ]
    }
   ],
   "source": [
    "print(\"--함수 이름 해석--\")\n",
    "\n",
    "x = 5\n",
    "def func(a) :\n",
    "    return a + x\n",
    "\n",
    "\n",
    "print(func(1))\n",
    "\n",
    "\n",
    "def func2(a):\n",
    "    x = 10\n",
    "    return a + x\n",
    "\n",
    "print(func2(1))\n",
    "\n",
    "\n"
   ]
  },
  {
   "cell_type": "code",
   "execution_count": 9,
   "id": "3d873145",
   "metadata": {},
   "outputs": [
    {
     "name": "stdout",
     "output_type": "stream",
     "text": [
      "기본값\n",
      "200\n",
      "100\n",
      "30\n",
      "http://multi.com:80\n",
      "http://test.com:80\n"
     ]
    }
   ],
   "source": [
    "print(\"기본값\")\n",
    "\n",
    "def times (a=10,b=20):\n",
    "    return a*b\n",
    "\n",
    "print(times())\n",
    "print(times(5))\n",
    "print(times(5,6))\n",
    "\n",
    "def connectURI(server, port): \n",
    "    strURL = \"http://\" + server + \":\" + port\n",
    "    return strURL\n",
    "\n",
    "print(connectURI(\"multi.com\", \"80\"))\n",
    "print(connectURI(port=\"80\", server=\"test.com\"))"
   ]
  },
  {
   "cell_type": "markdown",
   "id": "1f1ecbe7",
   "metadata": {},
   "source": [
    "## function2"
   ]
  },
  {
   "cell_type": "code",
   "execution_count": 10,
   "id": "ee35b881",
   "metadata": {},
   "outputs": [
    {
     "name": "stdout",
     "output_type": "stream",
     "text": [
      "['H', 'A', 'M', 'S', 'P']\n",
      "['H', 'A', 'M', 'S', 'P', 'E', 'G']\n",
      "6\n",
      "15\n",
      "9\n",
      "{'__name__': '__main__', '__doc__': 'Automatically created module for IPython interactive environment', '__package__': None, '__loader__': None, '__spec__': None, '__builtin__': <module 'builtins' (built-in)>, '__builtins__': <module 'builtins' (built-in)>, '_ih': ['', 'strA = \" 파이썬은 강력해\"\\nstrB = \" python is very powerful\"\\n\\nprint(len(strA))\\nprint(len(strB))\\nprint(strA[:2])\\nprint(strA[-2:])\\nprint(strB[:6])\\nprint(strB[-5:])\\n\\nstrC = \"\"\"이번에는\\n다중의 라인을\\n저장합니다.\"\"\"\\n\\n\\nprint(strC)', 'print(\"---list format---\")\\nlst = [10,20,30]\\nprint(len(lst))\\nlst.append(40)\\nprint(lst)\\nlst.remove(20)\\nprint(lst)\\nlst.insert(4, \"white\")\\nprint(lst)\\n\\nprint(\"---Tuple---\")\\n\\ntp = ( 100, 200, 300)\\nprint(len(tp))\\nprint(tp[1])\\nprint(tp.index(300))', 'print(\"---형식변환---\")\\n\\n\\nc = set ((1,2,3))\\nprint(c)\\nd = list(c)\\nd.append(10)\\nprint(d)\\ne = tuple(d)\\nprint(e)', 'print(\"---dic---\")\\ncolors = {\"apple\":\"red\", \"banana\":\"yellow\"}\\n\\ncolors[\"cherry\"] = \"red\"\\nprint(colors)\\n\\nprint(colors[\"apple\"])\\ndel colors[\"apple\"]\\nprint(colors) ', 'device = { \"iphone\":5, \"ipad\":10, \"mac\":7 }\\ndevice[\"dell\"] = 20\\nprint(device)\\ndevice[\"iphone\"] = 9\\nprint(device)\\ndel device[\"ipad\"]\\nprint(device)\\n\\nfor item in device.items():\\n    print(item)\\n\\nfor k,v in device.items():\\n    print(k,v)', 'print(\"---ture and false---\")\\nprint(bool(0))\\nprint(bool(1))\\nprint(bool(\"demo\"))\\nprint(bool([1,2,3]))\\nprint(bool(None))\\nprint(bool(\"none\"))\\nprint(True and True and True)\\nprint(bool([0,1,2]))\\nprint(5/2)\\nprint(5//2)\\nprint(5%2) # 홀 짝, 홀 : 1\\nprint(4%2) # 홀 짝, 짝 : 0', '#def <함수명>(인자1, 인자2, ... 인자N):\\n#   <구문>\\n#   return <반환값>\\n\\ndef times(a,b):\\n    return a*b\\n\\nprint(times)\\nprint(times(5,6))\\nmyTimes = times\\nprint(myTimes)\\n\\n#return', 'print(\"--함수 이름 해석--\")\\n\\nx = 5\\ndef func(a) :\\n    return a + x\\n\\n\\nprint(func(1))\\n\\n\\ndef func2(a):\\n    x = 10\\n    return a + x\\n\\nprint(func2(1))', 'print(\"기본값\")\\n\\ndef times (a=10,b=20):\\n    return a*b\\n\\nprint(times())\\nprint(times(5))\\nprint(times(5,6))\\n\\ndef connectURI(server, port): \\n    strURL = \"http://\" + server + \":\" + port\\n    return strURL\\n\\nprint(connectURI(\"multi.com\", \"80\"))\\nprint(connectURI(port=\"80\", server=\"test.com\"))', '#가변인자(갯수가 정해져 있지 않은경우)\\n# * Tuple 이라는 힌트\\ndef union(*ar):\\n    #지역변수\\n    res = []\\n    for item in ar:\\n        for x in item:\\n            if x not in res:\\n                res.append(x)\\n    return res \\n\\nprint( union(\"HAM\",\"SPAM\") )\\nprint( union(\"HAM\",\"SPAM\",\"EGG\") )\\n\\n\\n#람다 함수 정의\\ng = lambda x,y:x*y\\nprint( g(2,3) )\\nprint( g(3,5) )\\nprint( (lambda  x:x*x)(3) )\\nprint( globals() )\\n\\nprint( globals())\\nprint ( dir())'], '_oh': {}, '_dh': [WindowsPath('c:/wd')], 'In': ['', 'strA = \" 파이썬은 강력해\"\\nstrB = \" python is very powerful\"\\n\\nprint(len(strA))\\nprint(len(strB))\\nprint(strA[:2])\\nprint(strA[-2:])\\nprint(strB[:6])\\nprint(strB[-5:])\\n\\nstrC = \"\"\"이번에는\\n다중의 라인을\\n저장합니다.\"\"\"\\n\\n\\nprint(strC)', 'print(\"---list format---\")\\nlst = [10,20,30]\\nprint(len(lst))\\nlst.append(40)\\nprint(lst)\\nlst.remove(20)\\nprint(lst)\\nlst.insert(4, \"white\")\\nprint(lst)\\n\\nprint(\"---Tuple---\")\\n\\ntp = ( 100, 200, 300)\\nprint(len(tp))\\nprint(tp[1])\\nprint(tp.index(300))', 'print(\"---형식변환---\")\\n\\n\\nc = set ((1,2,3))\\nprint(c)\\nd = list(c)\\nd.append(10)\\nprint(d)\\ne = tuple(d)\\nprint(e)', 'print(\"---dic---\")\\ncolors = {\"apple\":\"red\", \"banana\":\"yellow\"}\\n\\ncolors[\"cherry\"] = \"red\"\\nprint(colors)\\n\\nprint(colors[\"apple\"])\\ndel colors[\"apple\"]\\nprint(colors) ', 'device = { \"iphone\":5, \"ipad\":10, \"mac\":7 }\\ndevice[\"dell\"] = 20\\nprint(device)\\ndevice[\"iphone\"] = 9\\nprint(device)\\ndel device[\"ipad\"]\\nprint(device)\\n\\nfor item in device.items():\\n    print(item)\\n\\nfor k,v in device.items():\\n    print(k,v)', 'print(\"---ture and false---\")\\nprint(bool(0))\\nprint(bool(1))\\nprint(bool(\"demo\"))\\nprint(bool([1,2,3]))\\nprint(bool(None))\\nprint(bool(\"none\"))\\nprint(True and True and True)\\nprint(bool([0,1,2]))\\nprint(5/2)\\nprint(5//2)\\nprint(5%2) # 홀 짝, 홀 : 1\\nprint(4%2) # 홀 짝, 짝 : 0', '#def <함수명>(인자1, 인자2, ... 인자N):\\n#   <구문>\\n#   return <반환값>\\n\\ndef times(a,b):\\n    return a*b\\n\\nprint(times)\\nprint(times(5,6))\\nmyTimes = times\\nprint(myTimes)\\n\\n#return', 'print(\"--함수 이름 해석--\")\\n\\nx = 5\\ndef func(a) :\\n    return a + x\\n\\n\\nprint(func(1))\\n\\n\\ndef func2(a):\\n    x = 10\\n    return a + x\\n\\nprint(func2(1))', 'print(\"기본값\")\\n\\ndef times (a=10,b=20):\\n    return a*b\\n\\nprint(times())\\nprint(times(5))\\nprint(times(5,6))\\n\\ndef connectURI(server, port): \\n    strURL = \"http://\" + server + \":\" + port\\n    return strURL\\n\\nprint(connectURI(\"multi.com\", \"80\"))\\nprint(connectURI(port=\"80\", server=\"test.com\"))', '#가변인자(갯수가 정해져 있지 않은경우)\\n# * Tuple 이라는 힌트\\ndef union(*ar):\\n    #지역변수\\n    res = []\\n    for item in ar:\\n        for x in item:\\n            if x not in res:\\n                res.append(x)\\n    return res \\n\\nprint( union(\"HAM\",\"SPAM\") )\\nprint( union(\"HAM\",\"SPAM\",\"EGG\") )\\n\\n\\n#람다 함수 정의\\ng = lambda x,y:x*y\\nprint( g(2,3) )\\nprint( g(3,5) )\\nprint( (lambda  x:x*x)(3) )\\nprint( globals() )\\n\\nprint( globals())\\nprint ( dir())'], 'Out': {}, 'get_ipython': <bound method InteractiveShell.get_ipython of <ipykernel.zmqshell.ZMQInteractiveShell object at 0x0000023AD19765F0>>, 'exit': <IPython.core.autocall.ZMQExitAutocall object at 0x0000023AD1977070>, 'quit': <IPython.core.autocall.ZMQExitAutocall object at 0x0000023AD1977070>, 'open': <function open at 0x0000023AD030E7A0>, '_': '', '__': '', '___': '', '__vsc_ipynb_file__': 'c:\\\\wd\\\\2_6_python_core.ipynb', '_i': 'print(\"기본값\")\\n\\ndef times (a=10,b=20):\\n    return a*b\\n\\nprint(times())\\nprint(times(5))\\nprint(times(5,6))\\n\\ndef connectURI(server, port): \\n    strURL = \"http://\" + server + \":\" + port\\n    return strURL\\n\\nprint(connectURI(\"multi.com\", \"80\"))\\nprint(connectURI(port=\"80\", server=\"test.com\"))', '_ii': 'print(\"--함수 이름 해석--\")\\n\\nx = 5\\ndef func(a) :\\n    return a + x\\n\\n\\nprint(func(1))\\n\\n\\ndef func2(a):\\n    x = 10\\n    return a + x\\n\\nprint(func2(1))', '_iii': '#def <함수명>(인자1, 인자2, ... 인자N):\\n#   <구문>\\n#   return <반환값>\\n\\ndef times(a,b):\\n    return a*b\\n\\nprint(times)\\nprint(times(5,6))\\nmyTimes = times\\nprint(myTimes)\\n\\n#return', '_i1': 'strA = \" 파이썬은 강력해\"\\nstrB = \" python is very powerful\"\\n\\nprint(len(strA))\\nprint(len(strB))\\nprint(strA[:2])\\nprint(strA[-2:])\\nprint(strB[:6])\\nprint(strB[-5:])\\n\\nstrC = \"\"\"이번에는\\n다중의 라인을\\n저장합니다.\"\"\"\\n\\n\\nprint(strC)', 'strA': ' 파이썬은 강력해', 'strB': ' python is very powerful', 'strC': '이번에는\\n다중의 라인을\\n저장합니다.', '_i2': 'print(\"---list format---\")\\nlst = [10,20,30]\\nprint(len(lst))\\nlst.append(40)\\nprint(lst)\\nlst.remove(20)\\nprint(lst)\\nlst.insert(4, \"white\")\\nprint(lst)\\n\\nprint(\"---Tuple---\")\\n\\ntp = ( 100, 200, 300)\\nprint(len(tp))\\nprint(tp[1])\\nprint(tp.index(300))', 'lst': [10, 30, 40, 'white'], 'tp': (100, 200, 300), '_i3': 'print(\"---형식변환---\")\\n\\n\\nc = set ((1,2,3))\\nprint(c)\\nd = list(c)\\nd.append(10)\\nprint(d)\\ne = tuple(d)\\nprint(e)', 'c': {1, 2, 3}, 'd': [1, 2, 3, 10], 'e': (1, 2, 3, 10), '_i4': 'print(\"---dic---\")\\ncolors = {\"apple\":\"red\", \"banana\":\"yellow\"}\\n\\ncolors[\"cherry\"] = \"red\"\\nprint(colors)\\n\\nprint(colors[\"apple\"])\\ndel colors[\"apple\"]\\nprint(colors) ', 'colors': {'banana': 'yellow', 'cherry': 'red'}, '_i5': 'device = { \"iphone\":5, \"ipad\":10, \"mac\":7 }\\ndevice[\"dell\"] = 20\\nprint(device)\\ndevice[\"iphone\"] = 9\\nprint(device)\\ndel device[\"ipad\"]\\nprint(device)\\n\\nfor item in device.items():\\n    print(item)\\n\\nfor k,v in device.items():\\n    print(k,v)', 'device': {'iphone': 9, 'mac': 7, 'dell': 20}, 'item': ('dell', 20), 'k': 'dell', 'v': 20, '_i6': 'print(\"---ture and false---\")\\nprint(bool(0))\\nprint(bool(1))\\nprint(bool(\"demo\"))\\nprint(bool([1,2,3]))\\nprint(bool(None))\\nprint(bool(\"none\"))\\nprint(True and True and True)\\nprint(bool([0,1,2]))\\nprint(5/2)\\nprint(5//2)\\nprint(5%2) # 홀 짝, 홀 : 1\\nprint(4%2) # 홀 짝, 짝 : 0', '_i7': '#def <함수명>(인자1, 인자2, ... 인자N):\\n#   <구문>\\n#   return <반환값>\\n\\ndef times(a,b):\\n    return a*b\\n\\nprint(times)\\nprint(times(5,6))\\nmyTimes = times\\nprint(myTimes)\\n\\n#return', 'times': <function times at 0x0000023AD19975B0>, 'myTimes': <function times at 0x0000023AD1997010>, '_i8': 'print(\"--함수 이름 해석--\")\\n\\nx = 5\\ndef func(a) :\\n    return a + x\\n\\n\\nprint(func(1))\\n\\n\\ndef func2(a):\\n    x = 10\\n    return a + x\\n\\nprint(func2(1))', 'x': 5, 'func': <function func at 0x0000023AD19976D0>, 'func2': <function func2 at 0x0000023AD1997760>, '_i9': 'print(\"기본값\")\\n\\ndef times (a=10,b=20):\\n    return a*b\\n\\nprint(times())\\nprint(times(5))\\nprint(times(5,6))\\n\\ndef connectURI(server, port): \\n    strURL = \"http://\" + server + \":\" + port\\n    return strURL\\n\\nprint(connectURI(\"multi.com\", \"80\"))\\nprint(connectURI(port=\"80\", server=\"test.com\"))', 'connectURI': <function connectURI at 0x0000023AD1996E60>, '_i10': '#가변인자(갯수가 정해져 있지 않은경우)\\n# * Tuple 이라는 힌트\\ndef union(*ar):\\n    #지역변수\\n    res = []\\n    for item in ar:\\n        for x in item:\\n            if x not in res:\\n                res.append(x)\\n    return res \\n\\nprint( union(\"HAM\",\"SPAM\") )\\nprint( union(\"HAM\",\"SPAM\",\"EGG\") )\\n\\n\\n#람다 함수 정의\\ng = lambda x,y:x*y\\nprint( g(2,3) )\\nprint( g(3,5) )\\nprint( (lambda  x:x*x)(3) )\\nprint( globals() )\\n\\nprint( globals())\\nprint ( dir())', 'union': <function union at 0x0000023AD19977F0>, 'g': <function <lambda> at 0x0000023AD19979A0>}\n",
      "{'__name__': '__main__', '__doc__': 'Automatically created module for IPython interactive environment', '__package__': None, '__loader__': None, '__spec__': None, '__builtin__': <module 'builtins' (built-in)>, '__builtins__': <module 'builtins' (built-in)>, '_ih': ['', 'strA = \" 파이썬은 강력해\"\\nstrB = \" python is very powerful\"\\n\\nprint(len(strA))\\nprint(len(strB))\\nprint(strA[:2])\\nprint(strA[-2:])\\nprint(strB[:6])\\nprint(strB[-5:])\\n\\nstrC = \"\"\"이번에는\\n다중의 라인을\\n저장합니다.\"\"\"\\n\\n\\nprint(strC)', 'print(\"---list format---\")\\nlst = [10,20,30]\\nprint(len(lst))\\nlst.append(40)\\nprint(lst)\\nlst.remove(20)\\nprint(lst)\\nlst.insert(4, \"white\")\\nprint(lst)\\n\\nprint(\"---Tuple---\")\\n\\ntp = ( 100, 200, 300)\\nprint(len(tp))\\nprint(tp[1])\\nprint(tp.index(300))', 'print(\"---형식변환---\")\\n\\n\\nc = set ((1,2,3))\\nprint(c)\\nd = list(c)\\nd.append(10)\\nprint(d)\\ne = tuple(d)\\nprint(e)', 'print(\"---dic---\")\\ncolors = {\"apple\":\"red\", \"banana\":\"yellow\"}\\n\\ncolors[\"cherry\"] = \"red\"\\nprint(colors)\\n\\nprint(colors[\"apple\"])\\ndel colors[\"apple\"]\\nprint(colors) ', 'device = { \"iphone\":5, \"ipad\":10, \"mac\":7 }\\ndevice[\"dell\"] = 20\\nprint(device)\\ndevice[\"iphone\"] = 9\\nprint(device)\\ndel device[\"ipad\"]\\nprint(device)\\n\\nfor item in device.items():\\n    print(item)\\n\\nfor k,v in device.items():\\n    print(k,v)', 'print(\"---ture and false---\")\\nprint(bool(0))\\nprint(bool(1))\\nprint(bool(\"demo\"))\\nprint(bool([1,2,3]))\\nprint(bool(None))\\nprint(bool(\"none\"))\\nprint(True and True and True)\\nprint(bool([0,1,2]))\\nprint(5/2)\\nprint(5//2)\\nprint(5%2) # 홀 짝, 홀 : 1\\nprint(4%2) # 홀 짝, 짝 : 0', '#def <함수명>(인자1, 인자2, ... 인자N):\\n#   <구문>\\n#   return <반환값>\\n\\ndef times(a,b):\\n    return a*b\\n\\nprint(times)\\nprint(times(5,6))\\nmyTimes = times\\nprint(myTimes)\\n\\n#return', 'print(\"--함수 이름 해석--\")\\n\\nx = 5\\ndef func(a) :\\n    return a + x\\n\\n\\nprint(func(1))\\n\\n\\ndef func2(a):\\n    x = 10\\n    return a + x\\n\\nprint(func2(1))', 'print(\"기본값\")\\n\\ndef times (a=10,b=20):\\n    return a*b\\n\\nprint(times())\\nprint(times(5))\\nprint(times(5,6))\\n\\ndef connectURI(server, port): \\n    strURL = \"http://\" + server + \":\" + port\\n    return strURL\\n\\nprint(connectURI(\"multi.com\", \"80\"))\\nprint(connectURI(port=\"80\", server=\"test.com\"))', '#가변인자(갯수가 정해져 있지 않은경우)\\n# * Tuple 이라는 힌트\\ndef union(*ar):\\n    #지역변수\\n    res = []\\n    for item in ar:\\n        for x in item:\\n            if x not in res:\\n                res.append(x)\\n    return res \\n\\nprint( union(\"HAM\",\"SPAM\") )\\nprint( union(\"HAM\",\"SPAM\",\"EGG\") )\\n\\n\\n#람다 함수 정의\\ng = lambda x,y:x*y\\nprint( g(2,3) )\\nprint( g(3,5) )\\nprint( (lambda  x:x*x)(3) )\\nprint( globals() )\\n\\nprint( globals())\\nprint ( dir())'], '_oh': {}, '_dh': [WindowsPath('c:/wd')], 'In': ['', 'strA = \" 파이썬은 강력해\"\\nstrB = \" python is very powerful\"\\n\\nprint(len(strA))\\nprint(len(strB))\\nprint(strA[:2])\\nprint(strA[-2:])\\nprint(strB[:6])\\nprint(strB[-5:])\\n\\nstrC = \"\"\"이번에는\\n다중의 라인을\\n저장합니다.\"\"\"\\n\\n\\nprint(strC)', 'print(\"---list format---\")\\nlst = [10,20,30]\\nprint(len(lst))\\nlst.append(40)\\nprint(lst)\\nlst.remove(20)\\nprint(lst)\\nlst.insert(4, \"white\")\\nprint(lst)\\n\\nprint(\"---Tuple---\")\\n\\ntp = ( 100, 200, 300)\\nprint(len(tp))\\nprint(tp[1])\\nprint(tp.index(300))', 'print(\"---형식변환---\")\\n\\n\\nc = set ((1,2,3))\\nprint(c)\\nd = list(c)\\nd.append(10)\\nprint(d)\\ne = tuple(d)\\nprint(e)', 'print(\"---dic---\")\\ncolors = {\"apple\":\"red\", \"banana\":\"yellow\"}\\n\\ncolors[\"cherry\"] = \"red\"\\nprint(colors)\\n\\nprint(colors[\"apple\"])\\ndel colors[\"apple\"]\\nprint(colors) ', 'device = { \"iphone\":5, \"ipad\":10, \"mac\":7 }\\ndevice[\"dell\"] = 20\\nprint(device)\\ndevice[\"iphone\"] = 9\\nprint(device)\\ndel device[\"ipad\"]\\nprint(device)\\n\\nfor item in device.items():\\n    print(item)\\n\\nfor k,v in device.items():\\n    print(k,v)', 'print(\"---ture and false---\")\\nprint(bool(0))\\nprint(bool(1))\\nprint(bool(\"demo\"))\\nprint(bool([1,2,3]))\\nprint(bool(None))\\nprint(bool(\"none\"))\\nprint(True and True and True)\\nprint(bool([0,1,2]))\\nprint(5/2)\\nprint(5//2)\\nprint(5%2) # 홀 짝, 홀 : 1\\nprint(4%2) # 홀 짝, 짝 : 0', '#def <함수명>(인자1, 인자2, ... 인자N):\\n#   <구문>\\n#   return <반환값>\\n\\ndef times(a,b):\\n    return a*b\\n\\nprint(times)\\nprint(times(5,6))\\nmyTimes = times\\nprint(myTimes)\\n\\n#return', 'print(\"--함수 이름 해석--\")\\n\\nx = 5\\ndef func(a) :\\n    return a + x\\n\\n\\nprint(func(1))\\n\\n\\ndef func2(a):\\n    x = 10\\n    return a + x\\n\\nprint(func2(1))', 'print(\"기본값\")\\n\\ndef times (a=10,b=20):\\n    return a*b\\n\\nprint(times())\\nprint(times(5))\\nprint(times(5,6))\\n\\ndef connectURI(server, port): \\n    strURL = \"http://\" + server + \":\" + port\\n    return strURL\\n\\nprint(connectURI(\"multi.com\", \"80\"))\\nprint(connectURI(port=\"80\", server=\"test.com\"))', '#가변인자(갯수가 정해져 있지 않은경우)\\n# * Tuple 이라는 힌트\\ndef union(*ar):\\n    #지역변수\\n    res = []\\n    for item in ar:\\n        for x in item:\\n            if x not in res:\\n                res.append(x)\\n    return res \\n\\nprint( union(\"HAM\",\"SPAM\") )\\nprint( union(\"HAM\",\"SPAM\",\"EGG\") )\\n\\n\\n#람다 함수 정의\\ng = lambda x,y:x*y\\nprint( g(2,3) )\\nprint( g(3,5) )\\nprint( (lambda  x:x*x)(3) )\\nprint( globals() )\\n\\nprint( globals())\\nprint ( dir())'], 'Out': {}, 'get_ipython': <bound method InteractiveShell.get_ipython of <ipykernel.zmqshell.ZMQInteractiveShell object at 0x0000023AD19765F0>>, 'exit': <IPython.core.autocall.ZMQExitAutocall object at 0x0000023AD1977070>, 'quit': <IPython.core.autocall.ZMQExitAutocall object at 0x0000023AD1977070>, 'open': <function open at 0x0000023AD030E7A0>, '_': '', '__': '', '___': '', '__vsc_ipynb_file__': 'c:\\\\wd\\\\2_6_python_core.ipynb', '_i': 'print(\"기본값\")\\n\\ndef times (a=10,b=20):\\n    return a*b\\n\\nprint(times())\\nprint(times(5))\\nprint(times(5,6))\\n\\ndef connectURI(server, port): \\n    strURL = \"http://\" + server + \":\" + port\\n    return strURL\\n\\nprint(connectURI(\"multi.com\", \"80\"))\\nprint(connectURI(port=\"80\", server=\"test.com\"))', '_ii': 'print(\"--함수 이름 해석--\")\\n\\nx = 5\\ndef func(a) :\\n    return a + x\\n\\n\\nprint(func(1))\\n\\n\\ndef func2(a):\\n    x = 10\\n    return a + x\\n\\nprint(func2(1))', '_iii': '#def <함수명>(인자1, 인자2, ... 인자N):\\n#   <구문>\\n#   return <반환값>\\n\\ndef times(a,b):\\n    return a*b\\n\\nprint(times)\\nprint(times(5,6))\\nmyTimes = times\\nprint(myTimes)\\n\\n#return', '_i1': 'strA = \" 파이썬은 강력해\"\\nstrB = \" python is very powerful\"\\n\\nprint(len(strA))\\nprint(len(strB))\\nprint(strA[:2])\\nprint(strA[-2:])\\nprint(strB[:6])\\nprint(strB[-5:])\\n\\nstrC = \"\"\"이번에는\\n다중의 라인을\\n저장합니다.\"\"\"\\n\\n\\nprint(strC)', 'strA': ' 파이썬은 강력해', 'strB': ' python is very powerful', 'strC': '이번에는\\n다중의 라인을\\n저장합니다.', '_i2': 'print(\"---list format---\")\\nlst = [10,20,30]\\nprint(len(lst))\\nlst.append(40)\\nprint(lst)\\nlst.remove(20)\\nprint(lst)\\nlst.insert(4, \"white\")\\nprint(lst)\\n\\nprint(\"---Tuple---\")\\n\\ntp = ( 100, 200, 300)\\nprint(len(tp))\\nprint(tp[1])\\nprint(tp.index(300))', 'lst': [10, 30, 40, 'white'], 'tp': (100, 200, 300), '_i3': 'print(\"---형식변환---\")\\n\\n\\nc = set ((1,2,3))\\nprint(c)\\nd = list(c)\\nd.append(10)\\nprint(d)\\ne = tuple(d)\\nprint(e)', 'c': {1, 2, 3}, 'd': [1, 2, 3, 10], 'e': (1, 2, 3, 10), '_i4': 'print(\"---dic---\")\\ncolors = {\"apple\":\"red\", \"banana\":\"yellow\"}\\n\\ncolors[\"cherry\"] = \"red\"\\nprint(colors)\\n\\nprint(colors[\"apple\"])\\ndel colors[\"apple\"]\\nprint(colors) ', 'colors': {'banana': 'yellow', 'cherry': 'red'}, '_i5': 'device = { \"iphone\":5, \"ipad\":10, \"mac\":7 }\\ndevice[\"dell\"] = 20\\nprint(device)\\ndevice[\"iphone\"] = 9\\nprint(device)\\ndel device[\"ipad\"]\\nprint(device)\\n\\nfor item in device.items():\\n    print(item)\\n\\nfor k,v in device.items():\\n    print(k,v)', 'device': {'iphone': 9, 'mac': 7, 'dell': 20}, 'item': ('dell', 20), 'k': 'dell', 'v': 20, '_i6': 'print(\"---ture and false---\")\\nprint(bool(0))\\nprint(bool(1))\\nprint(bool(\"demo\"))\\nprint(bool([1,2,3]))\\nprint(bool(None))\\nprint(bool(\"none\"))\\nprint(True and True and True)\\nprint(bool([0,1,2]))\\nprint(5/2)\\nprint(5//2)\\nprint(5%2) # 홀 짝, 홀 : 1\\nprint(4%2) # 홀 짝, 짝 : 0', '_i7': '#def <함수명>(인자1, 인자2, ... 인자N):\\n#   <구문>\\n#   return <반환값>\\n\\ndef times(a,b):\\n    return a*b\\n\\nprint(times)\\nprint(times(5,6))\\nmyTimes = times\\nprint(myTimes)\\n\\n#return', 'times': <function times at 0x0000023AD19975B0>, 'myTimes': <function times at 0x0000023AD1997010>, '_i8': 'print(\"--함수 이름 해석--\")\\n\\nx = 5\\ndef func(a) :\\n    return a + x\\n\\n\\nprint(func(1))\\n\\n\\ndef func2(a):\\n    x = 10\\n    return a + x\\n\\nprint(func2(1))', 'x': 5, 'func': <function func at 0x0000023AD19976D0>, 'func2': <function func2 at 0x0000023AD1997760>, '_i9': 'print(\"기본값\")\\n\\ndef times (a=10,b=20):\\n    return a*b\\n\\nprint(times())\\nprint(times(5))\\nprint(times(5,6))\\n\\ndef connectURI(server, port): \\n    strURL = \"http://\" + server + \":\" + port\\n    return strURL\\n\\nprint(connectURI(\"multi.com\", \"80\"))\\nprint(connectURI(port=\"80\", server=\"test.com\"))', 'connectURI': <function connectURI at 0x0000023AD1996E60>, '_i10': '#가변인자(갯수가 정해져 있지 않은경우)\\n# * Tuple 이라는 힌트\\ndef union(*ar):\\n    #지역변수\\n    res = []\\n    for item in ar:\\n        for x in item:\\n            if x not in res:\\n                res.append(x)\\n    return res \\n\\nprint( union(\"HAM\",\"SPAM\") )\\nprint( union(\"HAM\",\"SPAM\",\"EGG\") )\\n\\n\\n#람다 함수 정의\\ng = lambda x,y:x*y\\nprint( g(2,3) )\\nprint( g(3,5) )\\nprint( (lambda  x:x*x)(3) )\\nprint( globals() )\\n\\nprint( globals())\\nprint ( dir())', 'union': <function union at 0x0000023AD19977F0>, 'g': <function <lambda> at 0x0000023AD19979A0>}\n",
      "['In', 'Out', '_', '__', '___', '__builtin__', '__builtins__', '__doc__', '__loader__', '__name__', '__package__', '__spec__', '__vsc_ipynb_file__', '_dh', '_i', '_i1', '_i10', '_i2', '_i3', '_i4', '_i5', '_i6', '_i7', '_i8', '_i9', '_ih', '_ii', '_iii', '_oh', 'c', 'colors', 'connectURI', 'd', 'device', 'e', 'exit', 'func', 'func2', 'g', 'get_ipython', 'item', 'k', 'lst', 'myTimes', 'open', 'quit', 'strA', 'strB', 'strC', 'times', 'tp', 'union', 'v', 'x']\n"
     ]
    }
   ],
   "source": [
    "#가변인자(갯수가 정해져 있지 않은경우)\n",
    "# * Tuple 이라는 힌트\n",
    "def union(*ar):\n",
    "    #지역변수\n",
    "    res = []\n",
    "    for item in ar:\n",
    "        for x in item:\n",
    "            if x not in res:\n",
    "                res.append(x)\n",
    "    return res \n",
    "\n",
    "print( union(\"HAM\",\"SPAM\") )\n",
    "print( union(\"HAM\",\"SPAM\",\"EGG\") )\n",
    "\n",
    "\n",
    "#람다 함수 정의\n",
    "g = lambda x,y:x*y\n",
    "print( g(2,3) )\n",
    "print( g(3,5) )\n",
    "print( (lambda  x:x*x)(3) )\n",
    "print( globals() )\n",
    "\n",
    "print( globals())\n",
    "print ( dir())"
   ]
  },
  {
   "cell_type": "code",
   "execution_count": 11,
   "id": "6a09e188",
   "metadata": {},
   "outputs": [
    {
     "name": "stdout",
     "output_type": "stream",
     "text": [
      "Grade is F\n"
     ]
    }
   ],
   "source": [
    "## if elif 예제\n",
    "\n",
    "score = int(input('점수를 입력: '))\n",
    "if 90 <= score <= 100:\n",
    "    grade = \"A\"\n",
    "elif 80 <= score < 90:\n",
    "    grade = \"B\"\n",
    "elif 70 <= score < 80:\n",
    "    grade = \"C\"\n",
    "elif 60 <= score < 70:\n",
    "    grade = \"D\"\n",
    "else:\n",
    "    grade = \"F\"\n",
    "    \n",
    "print(\"Grade is \" + grade)\n"
   ]
  },
  {
   "cell_type": "markdown",
   "id": "8d76fad0",
   "metadata": {},
   "source": [
    "### While, For"
   ]
  },
  {
   "cell_type": "code",
   "execution_count": 12,
   "id": "db5344b6",
   "metadata": {},
   "outputs": [
    {
     "data": {
      "text/plain": [
       "[10, 15, 20]"
      ]
     },
     "execution_count": 12,
     "metadata": {},
     "output_type": "execute_result"
    }
   ],
   "source": [
    "#iteration 이 가능한 객체 (list, tuple, dirc, str)\n",
    "# for i in range (5) :\n",
    "\n",
    "list(range(10))\n",
    "list(range(5,10))\n",
    "list(range(10,0,-1))\n",
    "list(range(10,25,5))\n",
    "\n",
    "#numpy : 금요일\n",
    "\n"
   ]
  },
  {
   "cell_type": "markdown",
   "id": "6aae61ed",
   "metadata": {},
   "source": [
    "# demoLoop.py"
   ]
  },
  {
   "cell_type": "code",
   "execution_count": 13,
   "id": "59736ae5",
   "metadata": {},
   "outputs": [
    {
     "name": "stdout",
     "output_type": "stream",
     "text": [
      "5\n",
      "4\n",
      "3\n",
      "2\n",
      "1\n",
      "---for in---\n",
      "[100, 'apple', 3.14]\n",
      "[100, 'apple', 3.14]\n",
      "[100, 'apple', 3.14]\n",
      "(100, 'apple')\n",
      "(200, 'banana')\n"
     ]
    }
   ],
   "source": [
    "value = 5\n",
    "while value > 0:\n",
    "    print(value)\n",
    "    value -= 1\n",
    "\n",
    "print(\"---for in---\")\n",
    "lst = [ 100, \"apple\", 3.14]\n",
    "for item in lst:\n",
    "    print(lst)\n",
    "\n",
    "\n",
    "fruits = {100:\"apple\", 200:\"banana\"}\n",
    "for item in fruits.items():\n",
    "    print(item)"
   ]
  },
  {
   "cell_type": "code",
   "execution_count": 14,
   "id": "b727f05c",
   "metadata": {},
   "outputs": [
    {
     "name": "stdout",
     "output_type": "stream",
     "text": [
      "---수열함수---\n",
      "[1, 2, 3, 4, 5, 6, 7, 8, 9, 10]\n",
      "[2000, 2001, 2002, 2003, 2004, 2005, 2006, 2007, 2008, 2009, 2010, 2011, 2012, 2013, 2014, 2015, 2016, 2017, 2018, 2019, 2020, 2021, 2022, 2023, 2024, 2025]\n",
      "[1, 2, 3, 4, 5, 6, 7, 8, 9, 10, 11, 12, 13, 14, 15, 16, 17, 18, 19, 20, 21, 22, 23, 24, 25, 26, 27, 28, 29, 30, 31]\n",
      "---list 내장---\n",
      "[1, 2, 3, 4, 5, 6, 7, 8, 9, 10]\n",
      "[36, 49, 64, 81, 100]\n",
      "[5, 4]\n"
     ]
    }
   ],
   "source": [
    "print(\"---수열함수---\")\n",
    "print(list(range(1,11)))\n",
    "print(list(range(2000,2026)))\n",
    "print(list(range(1,32)))\n",
    "\n",
    "\n",
    "\n",
    "print(\"---list 내장---\")\n",
    "lst = list(range(1,11))\n",
    "print(lst)\n",
    "print( [i**2 for i in lst if i>5])\n",
    "\n",
    "\n",
    "\n",
    "tp = (\"apple\", \"kiwi\")\n",
    "print( [len(i) for i in tp])"
   ]
  },
  {
   "cell_type": "markdown",
   "id": "8593825c",
   "metadata": {},
   "source": []
  },
  {
   "cell_type": "code",
   "execution_count": 15,
   "id": "294be162",
   "metadata": {},
   "outputs": [
    {
     "name": "stdout",
     "output_type": "stream",
     "text": [
      "--필터링 함수--\n",
      "25\n",
      "30\n",
      "35\n",
      "40\n",
      "45\n",
      "--람다함수사용--\n",
      "25\n",
      "30\n",
      "35\n",
      "40\n",
      "45\n"
     ]
    }
   ],
   "source": [
    "## 필터링 함수\n",
    "print(\"--필터링 함수--\")\n",
    "lst = list(range(5,50,5)) ## 수열을 입력.\n",
    "def getBiggerThan20(i):\n",
    "    return i > 20\n",
    "\n",
    "itemL = filter(getBiggerThan20, lst)\n",
    "for item in itemL:\n",
    "    print(item)\n",
    "\n",
    "\n",
    "print(\"--람다함수사용--\")\n",
    "itemL = filter(lambda x:x>20, lst)\n",
    "\n",
    "for item in itemL:\n",
    "    print(item)\n"
   ]
  },
  {
   "cell_type": "markdown",
   "id": "ed245b7f",
   "metadata": {},
   "source": [
    "## demoClass.py"
   ]
  },
  {
   "cell_type": "code",
   "execution_count": 16,
   "id": "8a73c6ee",
   "metadata": {},
   "outputs": [
    {
     "name": "stdout",
     "output_type": "stream",
     "text": [
      "My name is 전우치\n",
      "My name is default name\n"
     ]
    }
   ],
   "source": [
    "#1) Class 정의\n",
    "class Person:\n",
    "    #초기화 method\n",
    "    def __init__(self):\n",
    "        self.name = \"default name\"\n",
    "    def print(self):\n",
    "        #f-string문법 : 포맷 스트링\n",
    "        #print(\"My name is {0}\".format(self.name))\n",
    "        print(f\"My name is {self.name}\")\n",
    "        \n",
    "\n",
    "#2) 인스턴스 생성\n",
    "p1 = Person()\n",
    "p2 = Person()   \n",
    "p1.name = \"전우치\"\n",
    "#3) method 호출 \n",
    "\n",
    "p1.print()\n",
    "p2.print()"
   ]
  },
  {
   "cell_type": "code",
   "execution_count": null,
   "id": "3dd2bc6a",
   "metadata": {},
   "outputs": [],
   "source": []
  },
  {
   "cell_type": "code",
   "execution_count": null,
   "id": "71bf3fae",
   "metadata": {},
   "outputs": [],
   "source": []
  },
  {
   "cell_type": "markdown",
   "id": "a988fdb8",
   "metadata": {},
   "source": [
    "## copolit 클래스 생성"
   ]
  },
  {
   "cell_type": "code",
   "execution_count": 17,
   "id": "34cd4168",
   "metadata": {},
   "outputs": [
    {
     "name": "stdout",
     "output_type": "stream",
     "text": [
      "ID: 1, Name: 홍길동\n",
      "ID: 2, Name: 김철수\n",
      "ID: 3, Name: 이순신, Title: 팀장\n",
      "ID: 4, Name: 유관순, Title: 부장\n",
      "ID: 5, Name: 강감찬, Skill: Python\n",
      "ID: 6, Name: 신사임당, Skill: Excel\n",
      "ID: 7, Name: 임꺽정\n",
      "ID: 8, Name: 장보고, Title: 사장\n",
      "ID: 9, Name: 정약용, Skill: Data Analysis\n"
     ]
    }
   ],
   "source": [
    "# Person 클래스와 상속 예제\n",
    "class Person:\n",
    "    def __init__(self, id, name):\n",
    "        self.id = id\n",
    "        self.name = name\n",
    "    def printInfo(self):\n",
    "        print(f\"ID: {self.id}, Name: {self.name}\")\n",
    "\n",
    "class Manager(Person):\n",
    "    def __init__(self, id, name, title):\n",
    "        super().__init__(id, name)\n",
    "        self.title = title\n",
    "    def printInfo(self):\n",
    "        print(f\"ID: {self.id}, Name: {self.name}, Title: {self.title}\")\n",
    "\n",
    "class Employee(Person):\n",
    "    def __init__(self, id, name, skill):\n",
    "        super().__init__(id, name)\n",
    "        self.skill = skill\n",
    "    def printInfo(self):\n",
    "        print(f\"ID: {self.id}, Name: {self.name}, Skill: {self.skill}\")\n",
    "\n",
    "# 테스트 코드 10개\n",
    "p1 = Person(1, \"홍길동\")\n",
    "p1.printInfo()\n",
    "\n",
    "p2 = Person(2, \"김철수\")\n",
    "p2.printInfo()\n",
    "\n",
    "m1 = Manager(3, \"이순신\", \"팀장\")\n",
    "m1.printInfo()\n",
    "\n",
    "m2 = Manager(4, \"유관순\", \"부장\")\n",
    "m2.printInfo()\n",
    "\n",
    "e1 = Employee(5, \"강감찬\", \"Python\")\n",
    "e1.printInfo()\n",
    "\n",
    "e2 = Employee(6, \"신사임당\", \"Excel\")\n",
    "e2.printInfo()\n",
    "\n",
    "# 다양한 인스턴스 테스트\n",
    "p3 = Person(7, \"임꺽정\")\n",
    "p3.printInfo()\n",
    "\n",
    "m3 = Manager(8, \"장보고\", \"사장\")\n",
    "m3.printInfo()\n",
    "\n",
    "e3 = Employee(9, \"정약용\", \"Data Analysis\")\n",
    "e3.printInfo()"
   ]
  },
  {
   "cell_type": "markdown",
   "id": "e26a74ad",
   "metadata": {},
   "source": [
    "## demoClass.py\n"
   ]
  },
  {
   "cell_type": "code",
   "execution_count": 18,
   "id": "0426ee74",
   "metadata": {},
   "outputs": [
    {
     "name": "stdout",
     "output_type": "stream",
     "text": [
      "Developer Name: 홍길동, Language: Python\n",
      "Developer Name: 김철수, Language: JavaScript\n"
     ]
    }
   ],
   "source": [
    "#게발자 클래스를 정의 \n",
    "\n",
    "class Developer:\n",
    "    def __init__(self, name, language):\n",
    "        self.name = name\n",
    "        self.language = language\n",
    "\n",
    "    def printInfo(self):\n",
    "        print(f\"Developer Name: {self.name}, Language: {self.language}\")        \n",
    "\n",
    "# 테스트 코드\n",
    "dev1 = Developer(\"홍길동\", \"Python\")        \n",
    "dev1.printInfo()\n",
    "dev2 = Developer(\"김철수\", \"JavaScript\")    \n",
    "dev2.printInfo()        \n",
    "\n",
    "\n"
   ]
  },
  {
   "cell_type": "code",
   "execution_count": 19,
   "id": "8f87d1c9",
   "metadata": {},
   "outputs": [
    {
     "name": "stdout",
     "output_type": "stream",
     "text": [
      "10\n",
      "23\n",
      "Python is very powerful\n",
      "PYTHON IS VERY POWERFUL\n",
      "True\n",
      "True\n",
      "<<< sapm and ham >>>\n",
      "<<< sapm and ham >>>\n",
      "<<< sapm and ham >>>\n",
      "['<<<', 'sapm', 'and', 'ham', '>>>']\n",
      "<<<:)sapm:)and:)ham:)>>>\n"
     ]
    }
   ],
   "source": [
    "#demofile.py\n",
    "# f = open('c:\\\\wirj\\\\test.txt', 'wt', encoding='utf-8')      \n",
    "# f.write('첫번째\\n두번째\\n세번째\\n')\n",
    "# f.close()\n",
    "\n",
    "\n",
    "##파일 읽기(raw string notation)\n",
    "## f= open(r'c:\\work\\test.txt', 'rt', encoding='utf-8')\n",
    "## no back slash\n",
    "# f = open('c:\\\\work\\\\test.txt', 'rt', encoding='utf-8')\n",
    "## print(f.readline())  # 한 줄 읽기\n",
    "# print(f.read())  # 파일 전체를 읽음\n",
    "# f.close()   \n",
    "\n",
    "\n",
    "# 문자열 처리\n",
    "strA = \" 파이썬은 강력함 \"\n",
    "strB = \"python is very powerful\"\n",
    "\n",
    "print(len(strA))  # 문자열 길이\n",
    "print(len(strB))\n",
    "print(strB.capitalize())  # 첫 글자 대문자\n",
    "print(strB.upper())  # 모두 대문자\n",
    "print(\"MBC2580\".isalnum())  # 알파벳과 숫자로만 구성되어 있는지 확인\n",
    "print(\"2580\".isdecimal())  # 숫자로만 구성되어 있는지 확인\n",
    "data = \"<<< sapm and ham >>>\"\n",
    "result = data.strip()  # 양쪽 공백 제거\n",
    "#result = data.strip(\"<>\")  # 양쪽 공백 제거\n",
    "print(data)\n",
    "print(result)\n",
    "\n",
    "result2 = result.replace(\"spam\", \"spam and ham\")  # 문자열 치환\n",
    "print(result2)  \n",
    "lst = result2.split()  # 공백을 기준으로 문자열 분리\n",
    "print(lst)  # ['sapm', 'and', 'ham']\n",
    "print(\":)\".join(lst))  # 리스트를 문자열로 합치기\n"
   ]
  },
  {
   "cell_type": "markdown",
   "id": "acc061a6",
   "metadata": {},
   "source": [
    "### 정규 표현식"
   ]
  },
  {
   "cell_type": "code",
   "execution_count": 20,
   "id": "162f7052",
   "metadata": {},
   "outputs": [],
   "source": [
    "# import re\n",
    "# # 정규 표현식 예제  \n",
    "# result = re.search(\"[0-9]*th*\", \"35th\")\n",
    "# print(result)\n",
    "# print(result.group())  # 매칭된 문자열 출력\n",
    "# result = re.match(\"[0-9]*th*\", \"35th\")\n",
    "# print(result)       \n",
    "# print(result.group())  # 매칭된 문자열 출력\n",
    "\n",
    "# ## 여기는 차이가 없는 것 처럼 보인다.\n",
    "\n",
    "# result = re.search(\"apple\", \"I like apple pie\")\n",
    "# print(result.group())  # 'apple' 출력\n",
    "\n",
    "# result = re.search(r\"\\d{4}\", \"올해는 2025 년입니다.\")\n",
    "# print(result.group())  # '2025' 출력\n",
    "\n",
    "# result = re.search(r\"\\d{5}\", \"우리 동네는 40492 입니다.\")\n",
    "# print(result.group())  # '40492' 출력\n",
    "\n",
    "\n",
    "# # match와 search의 차이\n",
    "# # match는 문자열의 시작에서부터 패턴을 찾고, search는 문자열 전체에서 패턴을 찾습니다.\n"
   ]
  },
  {
   "cell_type": "markdown",
   "id": "5768e704",
   "metadata": {},
   "source": [
    "### copilot "
   ]
  },
  {
   "cell_type": "markdown",
   "id": "d7433ede",
   "metadata": {},
   "source": [
    "#### copilot 이메일 주소 체크.\n"
   ]
  },
  {
   "cell_type": "markdown",
   "id": "97687886",
   "metadata": {},
   "source": [
    "# 파이썬으로 이메일 주소를 체크하는 코드를 만들어줘. 체크하는 이메일 주소도 10개로 준비해줘. @gmail.com 으로."
   ]
  },
  {
   "cell_type": "code",
   "execution_count": 21,
   "id": "a7c992c0",
   "metadata": {},
   "outputs": [
    {
     "name": "stdout",
     "output_type": "stream",
     "text": [
      "유효: user1@gmail.com\n",
      "유효: test.user2@gmail.com\n",
      "유효: hello_world3@gmail.com\n",
      "유효: python.dev4@gmail.com\n",
      "유효: sample5@gmail.com\n",
      "유효: my.email6@gmail.com\n",
      "유효: abc_def7@gmail.com\n",
      "유효: user8@gmail.com\n",
      "유효: user9@gmail.com\n",
      "유효: user10@gmail.com\n"
     ]
    }
   ],
   "source": [
    "import re\n",
    "\n",
    "# 체크할 이메일 주소 10개 준비\n",
    "emails = [\n",
    "    \"user1@gmail.com\",           # 영문+숫자\n",
    "    \"test.user2@gmail.com\",      # 영문+숫자+점\n",
    "    \"hello_world3@gmail.com\",    # 영문+숫자+언더바\n",
    "    \"python.dev4@gmail.com\",     # 영문+숫자+점\n",
    "    \"sample5@gmail.com\",         # 영문+숫자\n",
    "    \"my.email6@gmail.com\",       # 영문+숫자+점\n",
    "    \"abc_def7@gmail.com\",        # 영문+숫자+언더바\n",
    "    \"user8@gmail.com\",           # 영문+숫자\n",
    "    \"user9@gmail.com\",           # 영문+숫자\n",
    "    \"user10@gmail.com\"           # 영문+숫자\n",
    "]\n",
    "\n",
    "# 이메일 정규표현식 패턴 설명\n",
    "# ^                : 문자열의 시작\n",
    "# [a-zA-Z0-9._%+-]+: 영문 대소문자, 숫자, 점, 언더바, %, +, - 중 1개 이상\n",
    "# @gmail\\.com$      : @gmail.com으로 끝남 (\\.은 .을 의미, $는 문자열 끝)\n",
    "pattern = r\"^[a-zA-Z0-9._%+-]+@gmail\\.com$\"\n",
    "\n",
    "for email in emails:\n",
    "    # re.fullmatch: 전체 문자열이 패턴과 일치해야 True\n",
    "    if re.fullmatch(pattern, email):\n",
    "        print(f\"유효: {email}\")\n",
    "    else:\n",
    "        print(f\"무효: {email}\")"
   ]
  },
  {
   "cell_type": "code",
   "execution_count": 22,
   "id": "9b227aca",
   "metadata": {},
   "outputs": [
    {
     "name": "stdout",
     "output_type": "stream",
     "text": [
      "search 결과: 2025\n",
      "match 결과: 2025\n",
      "match 결과: 없음 (문자열 시작이 숫자가 아님)\n"
     ]
    }
   ],
   "source": [
    "# 정규표현식 search와 match 차이 예제\n",
    "import re\n",
    "\n",
    "# search 예제: 문자열 전체에서 패턴을 찾음\n",
    "text1 = \"나는 2025년에 졸업할 예정이다.\"\n",
    "result1 = re.search(r\"\\d{4}\", text1)\n",
    "if result1:\n",
    "    print(\"search 결과:\", result1.group())  # 2025\n",
    "else:\n",
    "    print(\"search 결과: 없음\")\n",
    "\n",
    "# match 예제: 문자열의 시작에서만 패턴을 찾음\n",
    "text2 = \"2025년에 졸업할 예정이다.\"\n",
    "result2 = re.match(r\"\\d{4}\", text2)\n",
    "if result2:\n",
    "    print(\"match 결과:\", result2.group())  # 2025\n",
    "else:\n",
    "    print(\"match 결과: 없음\")\n",
    "\n",
    "# match는 문자열이 숫자로 시작하지 않으면 None 반환\n",
    "text3 = \"졸업년도는 2025년입니다.\"\n",
    "result3 = re.match(r\"\\d{4}\", text3)\n",
    "if result3:\n",
    "    print(\"match 결과:\", result3.group())\n",
    "else:\n",
    "    print(\"match 결과: 없음 (문자열 시작이 숫자가 아님)\")"
   ]
  },
  {
   "cell_type": "code",
   "execution_count": null,
   "id": "d77742a2",
   "metadata": {},
   "outputs": [],
   "source": []
  }
 ],
 "metadata": {
  "kernelspec": {
   "display_name": "Python 3",
   "language": "python",
   "name": "python3"
  },
  "language_info": {
   "codemirror_mode": {
    "name": "ipython",
    "version": 3
   },
   "file_extension": ".py",
   "mimetype": "text/x-python",
   "name": "python",
   "nbconvert_exporter": "python",
   "pygments_lexer": "ipython3",
   "version": "3.10.9"
  }
 },
 "nbformat": 4,
 "nbformat_minor": 5
}
