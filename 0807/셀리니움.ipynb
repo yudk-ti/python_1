{
 "cells": [
  {
   "cell_type": "markdown",
   "id": "68904bf1",
   "metadata": {},
   "source": [
    "셀리니움. 고양이."
   ]
  },
  {
   "cell_type": "code",
   "execution_count": 2,
   "id": "d2234967",
   "metadata": {},
   "outputs": [
    {
     "name": "stdout",
     "output_type": "stream",
     "text": [
      "이미지를 찾을 수 없습니다.\n"
     ]
    }
   ],
   "source": [
    "from selenium import webdriver\n",
    "from selenium.webdriver.common.by import By\n",
    "import time\n",
    "from IPython.display import display, Image\n",
    "\n",
    "# 네이버 이미지 검색 URL\n",
    "search_url = \"https://search.naver.com/search.naver?where=image&sm=tab_jum&query=고양이\"\n",
    "\n",
    "# 셀리니움 웹드라이버 실행 (크롬 기준)\n",
    "driver = webdriver.Chrome()\n",
    "driver.get(search_url)\n",
    "time.sleep(2)  # 페이지 로딩 대기\n",
    "\n",
    "# 이미지 태그 추출\n",
    "images = driver.find_elements(By.CSS_SELECTOR, \"img._image._listImage\")\n",
    "img_urls = [img.get_attribute('src') for img in images if img.get_attribute('src')]\n",
    "\n",
    "# 첫 번째 이미지 표시\n",
    "if img_urls:\n",
    "    display(Image(url=img_urls[0]))\n",
    "else:\n",
    "    print(\"이미지를 찾을 수 없습니다.\")\n",
    "\n",
    "driver.quit()"
   ]
  },
  {
   "cell_type": "markdown",
   "id": "5e17adc8",
   "metadata": {},
   "source": [
    "### 코파일럿_네이버블로그.py"
   ]
  },
  {
   "cell_type": "code",
   "execution_count": 4,
   "id": "9cee3e20",
   "metadata": {},
   "outputs": [
    {
     "name": "stdout",
     "output_type": "stream",
     "text": [
      "naverfesult.xlsx 파일로 저장\n"
     ]
    }
   ],
   "source": [
    "#cmd\n",
    "#pip install openpyxl\n",
    "\n",
    "import requests\n",
    "from bs4 import BeautifulSoup\n",
    "from openpyxl import Workbook\n",
    "\n",
    "url = \"https://search.naver.com/search.naver?where=nexearch&sm=top_hty&fbm=0&ie=utf8&query=%EB%B0%98%EB%8F%84%EC%B2%B4\"\n",
    "headers = {\n",
    "    \"User-Agent\": \"Mozilla/5.0 (Windows NT 10.0; Win64; x64) AppleWebKit/537.36 (KHTML, like Gecko) Chrome/115.0.0.0 Safari/537.36\"\n",
    "}\n",
    "\n",
    "response = requests.get(url, headers=headers)\n",
    "soup = BeautifulSoup(response.text, \"html.parser\")\n",
    "\n",
    "# 기사 제목 추출\n",
    "title_spans = soup.select('span.sds-comps-text-type-headline1, span.gXUeLODhQ4Vm01mSG300')\n",
    "titles = [span.get_text() for span in title_spans]\n",
    "\n",
    "# 엑셀 파일로 저장\n",
    "wb = Workbook()\n",
    "ws = wb.active\n",
    "ws.title = \"NaverNews\"\n",
    "\n",
    "ws.append([\"기사 제목\"])  # 헤더 추가\n",
    "for title in titles:\n",
    "    ws.append([title])\n",
    "\n",
    "wb.save(\"naverfesult.xlsx\")\n",
    "print(\"naverfesult.xlsx 파일로 저장\")"
   ]
  },
  {
   "cell_type": "markdown",
   "id": "49123609",
   "metadata": {},
   "source": [
    "### 코파일럿_ 코스피200정보"
   ]
  },
  {
   "cell_type": "code",
   "execution_count": null,
   "id": "8681e1ff",
   "metadata": {},
   "outputs": [],
   "source": []
  }
 ],
 "metadata": {
  "kernelspec": {
   "display_name": "Python 3",
   "language": "python",
   "name": "python3"
  },
  "language_info": {
   "codemirror_mode": {
    "name": "ipython",
    "version": 3
   },
   "file_extension": ".py",
   "mimetype": "text/x-python",
   "name": "python",
   "nbconvert_exporter": "python",
   "pygments_lexer": "ipython3",
   "version": "3.10.9"
  }
 },
 "nbformat": 4,
 "nbformat_minor": 5
}
